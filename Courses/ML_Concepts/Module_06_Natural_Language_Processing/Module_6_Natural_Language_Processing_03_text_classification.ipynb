{
  "cells": [
    {
      "cell_type": "markdown",
      "metadata": {
        "id": "view-in-github",
        "colab_type": "text"
      },
      "source": [
        "<a href=\"https://colab.research.google.com/github/ICBI/AIMAHEAD_GU/blob/main/Courses/ML_Concepts/Module_06_Natural_Language_Processing/Module_6_Natural_Language_Processing_03_text_classification.ipynb\" target=\"_parent\"><img src=\"https://colab.research.google.com/assets/colab-badge.svg\" alt=\"Open In Colab\"/></a>"
      ]
    },
    {
      "cell_type": "markdown",
      "metadata": {
        "id": "Hlp2-nxf-3R2"
      },
      "source": [
        "<img src=\"https://raw.githubusercontent.com/ICBI/AIMAHEAD_GU_publicCourseData/main/AAlogo1.jpg\" alt=\"Powered by\" width=\"150\"/>\n",
        "\n",
        "#AI/ML for Healthcare Applications : Lab 6c Text Classification\n",
        "\n",
        "Based on material from the Georgetown [Health Informatics and Data Science](https://healthinformatics.georgetown.edu) program and licensed under  [CC4.0](https://creativecommons.org/licenses/by/4.0/)\n",
        "\n",
        "\n",
        "The aim of this notebook is to provide an hands-on demo of selecting model and tuning hyperparameters using sklearn.\n",
        "\n"
      ]
    },
    {
      "cell_type": "markdown",
      "metadata": {
        "id": "Eh0l3Z8Z_Mxp"
      },
      "source": [
        "In this lab, we will explore various ML approaches for text classification using the deep learning library: Keras\n",
        "\n",
        "https://keras.io/"
      ]
    },
    {
      "cell_type": "markdown",
      "metadata": {
        "id": "Agb7lkS6_XZF"
      },
      "source": [
        "Pandas, Matplotlib and sklearn imports"
      ]
    },
    {
      "cell_type": "code",
      "execution_count": null,
      "metadata": {
        "id": "Qn6j23q3-q0j"
      },
      "outputs": [],
      "source": [
        "import pandas as pd\n",
        "import numpy as np\n",
        "import matplotlib.pyplot as plt\n",
        "from collections import Counter\n",
        "from sklearn.model_selection import train_test_split"
      ]
    },
    {
      "cell_type": "markdown",
      "metadata": {
        "id": "khhQ5k4XFTKk"
      },
      "source": [
        "\n",
        "\n",
        "For this lab of text classification we will use the same adverse drug reaction dataset (with some minor changes) that we have used in the previous labs."
      ]
    },
    {
      "cell_type": "markdown",
      "metadata": {
        "id": "q3p_giiCFgtA"
      },
      "source": [
        "Read the csv file"
      ]
    },
    {
      "cell_type": "code",
      "execution_count": null,
      "metadata": {
        "id": "p8EJ5cv2Fe0d"
      },
      "outputs": [],
      "source": [
        "ade_file = \"/content/drive/MyDrive/Work/HIDS_506_2024/Lecture9/data/ade_corpus_subset.csv\""
      ]
    },
    {
      "cell_type": "code",
      "execution_count": null,
      "metadata": {
        "id": "lTCHtbuRGraN"
      },
      "outputs": [],
      "source": [
        "ade_df = pd.read_csv(ade_file)"
      ]
    },
    {
      "cell_type": "code",
      "execution_count": null,
      "metadata": {
        "colab": {
          "base_uri": "https://localhost:8080/",
          "height": 206
        },
        "id": "_n6DG_HoHH9C",
        "outputId": "282e5a0b-2260-4b21-d372-041df417f7e2"
      },
      "outputs": [
        {
          "data": {
            "application/vnd.google.colaboratory.intrinsic+json": {
              "summary": "{\n  \"name\": \"ade_df\",\n  \"rows\": 11272,\n  \"fields\": [\n    {\n      \"column\": \"pmid\",\n      \"properties\": {\n        \"dtype\": \"number\",\n        \"std\": 5705605,\n        \"min\": 3393,\n        \"max\": 20465622,\n        \"num_unique_values\": 2897,\n        \"samples\": [\n          19299370,\n          8435665,\n          7114316\n        ],\n        \"semantic_type\": \"\",\n        \"description\": \"\"\n      }\n    },\n    {\n      \"column\": \"sentence\",\n      \"properties\": {\n        \"dtype\": \"string\",\n        \"num_unique_values\": 11256,\n        \"samples\": [\n          \"Lichenoid drug eruption to salsalate.\",\n          \"Subsequent use of pamidronate was associated with milder inflammation in the same eye that eventually resolved with continued monthly infusions, indicating the possibility of immunologic tolerance.\",\n          \"A case of SIADH induced by mizoribin administration.\"\n        ],\n        \"semantic_type\": \"\",\n        \"description\": \"\"\n      }\n    },\n    {\n      \"column\": \"label\",\n      \"properties\": {\n        \"dtype\": \"number\",\n        \"std\": 0,\n        \"min\": 0,\n        \"max\": 1,\n        \"num_unique_values\": 2,\n        \"samples\": [\n          0,\n          1\n        ],\n        \"semantic_type\": \"\",\n        \"description\": \"\"\n      }\n    }\n  ]\n}",
              "type": "dataframe",
              "variable_name": "ade_df"
            },
            "text/html": [
              "\n",
              "  <div id=\"df-365615bf-84fd-4efc-bbb0-c113b2bd7ad9\" class=\"colab-df-container\">\n",
              "    <div>\n",
              "<style scoped>\n",
              "    .dataframe tbody tr th:only-of-type {\n",
              "        vertical-align: middle;\n",
              "    }\n",
              "\n",
              "    .dataframe tbody tr th {\n",
              "        vertical-align: top;\n",
              "    }\n",
              "\n",
              "    .dataframe thead th {\n",
              "        text-align: right;\n",
              "    }\n",
              "</style>\n",
              "<table border=\"1\" class=\"dataframe\">\n",
              "  <thead>\n",
              "    <tr style=\"text-align: right;\">\n",
              "      <th></th>\n",
              "      <th>pmid</th>\n",
              "      <th>sentence</th>\n",
              "      <th>label</th>\n",
              "    </tr>\n",
              "  </thead>\n",
              "  <tbody>\n",
              "    <tr>\n",
              "      <th>0</th>\n",
              "      <td>11174414</td>\n",
              "      <td>Severe rash, including the Stevens-Johnson syn...</td>\n",
              "      <td>1</td>\n",
              "    </tr>\n",
              "    <tr>\n",
              "      <th>1</th>\n",
              "      <td>12645965</td>\n",
              "      <td>Significant systemic manifestations are rare.</td>\n",
              "      <td>0</td>\n",
              "    </tr>\n",
              "    <tr>\n",
              "      <th>2</th>\n",
              "      <td>17172571</td>\n",
              "      <td>Chronic paroxysmal hemicrania (CPH) is a rare ...</td>\n",
              "      <td>0</td>\n",
              "    </tr>\n",
              "    <tr>\n",
              "      <th>3</th>\n",
              "      <td>16109609</td>\n",
              "      <td>Of twenty other patients in our practice who r...</td>\n",
              "      <td>0</td>\n",
              "    </tr>\n",
              "    <tr>\n",
              "      <th>4</th>\n",
              "      <td>15779196</td>\n",
              "      <td>A 74-year old white man was undergoing treatme...</td>\n",
              "      <td>0</td>\n",
              "    </tr>\n",
              "  </tbody>\n",
              "</table>\n",
              "</div>\n",
              "    <div class=\"colab-df-buttons\">\n",
              "\n",
              "  <div class=\"colab-df-container\">\n",
              "    <button class=\"colab-df-convert\" onclick=\"convertToInteractive('df-365615bf-84fd-4efc-bbb0-c113b2bd7ad9')\"\n",
              "            title=\"Convert this dataframe to an interactive table.\"\n",
              "            style=\"display:none;\">\n",
              "\n",
              "  <svg xmlns=\"http://www.w3.org/2000/svg\" height=\"24px\" viewBox=\"0 -960 960 960\">\n",
              "    <path d=\"M120-120v-720h720v720H120Zm60-500h600v-160H180v160Zm220 220h160v-160H400v160Zm0 220h160v-160H400v160ZM180-400h160v-160H180v160Zm440 0h160v-160H620v160ZM180-180h160v-160H180v160Zm440 0h160v-160H620v160Z\"/>\n",
              "  </svg>\n",
              "    </button>\n",
              "\n",
              "  <style>\n",
              "    .colab-df-container {\n",
              "      display:flex;\n",
              "      gap: 12px;\n",
              "    }\n",
              "\n",
              "    .colab-df-convert {\n",
              "      background-color: #E8F0FE;\n",
              "      border: none;\n",
              "      border-radius: 50%;\n",
              "      cursor: pointer;\n",
              "      display: none;\n",
              "      fill: #1967D2;\n",
              "      height: 32px;\n",
              "      padding: 0 0 0 0;\n",
              "      width: 32px;\n",
              "    }\n",
              "\n",
              "    .colab-df-convert:hover {\n",
              "      background-color: #E2EBFA;\n",
              "      box-shadow: 0px 1px 2px rgba(60, 64, 67, 0.3), 0px 1px 3px 1px rgba(60, 64, 67, 0.15);\n",
              "      fill: #174EA6;\n",
              "    }\n",
              "\n",
              "    .colab-df-buttons div {\n",
              "      margin-bottom: 4px;\n",
              "    }\n",
              "\n",
              "    [theme=dark] .colab-df-convert {\n",
              "      background-color: #3B4455;\n",
              "      fill: #D2E3FC;\n",
              "    }\n",
              "\n",
              "    [theme=dark] .colab-df-convert:hover {\n",
              "      background-color: #434B5C;\n",
              "      box-shadow: 0px 1px 3px 1px rgba(0, 0, 0, 0.15);\n",
              "      filter: drop-shadow(0px 1px 2px rgba(0, 0, 0, 0.3));\n",
              "      fill: #FFFFFF;\n",
              "    }\n",
              "  </style>\n",
              "\n",
              "    <script>\n",
              "      const buttonEl =\n",
              "        document.querySelector('#df-365615bf-84fd-4efc-bbb0-c113b2bd7ad9 button.colab-df-convert');\n",
              "      buttonEl.style.display =\n",
              "        google.colab.kernel.accessAllowed ? 'block' : 'none';\n",
              "\n",
              "      async function convertToInteractive(key) {\n",
              "        const element = document.querySelector('#df-365615bf-84fd-4efc-bbb0-c113b2bd7ad9');\n",
              "        const dataTable =\n",
              "          await google.colab.kernel.invokeFunction('convertToInteractive',\n",
              "                                                    [key], {});\n",
              "        if (!dataTable) return;\n",
              "\n",
              "        const docLinkHtml = 'Like what you see? Visit the ' +\n",
              "          '<a target=\"_blank\" href=https://colab.research.google.com/notebooks/data_table.ipynb>data table notebook</a>'\n",
              "          + ' to learn more about interactive tables.';\n",
              "        element.innerHTML = '';\n",
              "        dataTable['output_type'] = 'display_data';\n",
              "        await google.colab.output.renderOutput(dataTable, element);\n",
              "        const docLink = document.createElement('div');\n",
              "        docLink.innerHTML = docLinkHtml;\n",
              "        element.appendChild(docLink);\n",
              "      }\n",
              "    </script>\n",
              "  </div>\n",
              "\n",
              "\n",
              "<div id=\"df-83e38a11-ddd4-4564-bd55-b5e805948d51\">\n",
              "  <button class=\"colab-df-quickchart\" onclick=\"quickchart('df-83e38a11-ddd4-4564-bd55-b5e805948d51')\"\n",
              "            title=\"Suggest charts\"\n",
              "            style=\"display:none;\">\n",
              "\n",
              "<svg xmlns=\"http://www.w3.org/2000/svg\" height=\"24px\"viewBox=\"0 0 24 24\"\n",
              "     width=\"24px\">\n",
              "    <g>\n",
              "        <path d=\"M19 3H5c-1.1 0-2 .9-2 2v14c0 1.1.9 2 2 2h14c1.1 0 2-.9 2-2V5c0-1.1-.9-2-2-2zM9 17H7v-7h2v7zm4 0h-2V7h2v10zm4 0h-2v-4h2v4z\"/>\n",
              "    </g>\n",
              "</svg>\n",
              "  </button>\n",
              "\n",
              "<style>\n",
              "  .colab-df-quickchart {\n",
              "      --bg-color: #E8F0FE;\n",
              "      --fill-color: #1967D2;\n",
              "      --hover-bg-color: #E2EBFA;\n",
              "      --hover-fill-color: #174EA6;\n",
              "      --disabled-fill-color: #AAA;\n",
              "      --disabled-bg-color: #DDD;\n",
              "  }\n",
              "\n",
              "  [theme=dark] .colab-df-quickchart {\n",
              "      --bg-color: #3B4455;\n",
              "      --fill-color: #D2E3FC;\n",
              "      --hover-bg-color: #434B5C;\n",
              "      --hover-fill-color: #FFFFFF;\n",
              "      --disabled-bg-color: #3B4455;\n",
              "      --disabled-fill-color: #666;\n",
              "  }\n",
              "\n",
              "  .colab-df-quickchart {\n",
              "    background-color: var(--bg-color);\n",
              "    border: none;\n",
              "    border-radius: 50%;\n",
              "    cursor: pointer;\n",
              "    display: none;\n",
              "    fill: var(--fill-color);\n",
              "    height: 32px;\n",
              "    padding: 0;\n",
              "    width: 32px;\n",
              "  }\n",
              "\n",
              "  .colab-df-quickchart:hover {\n",
              "    background-color: var(--hover-bg-color);\n",
              "    box-shadow: 0 1px 2px rgba(60, 64, 67, 0.3), 0 1px 3px 1px rgba(60, 64, 67, 0.15);\n",
              "    fill: var(--button-hover-fill-color);\n",
              "  }\n",
              "\n",
              "  .colab-df-quickchart-complete:disabled,\n",
              "  .colab-df-quickchart-complete:disabled:hover {\n",
              "    background-color: var(--disabled-bg-color);\n",
              "    fill: var(--disabled-fill-color);\n",
              "    box-shadow: none;\n",
              "  }\n",
              "\n",
              "  .colab-df-spinner {\n",
              "    border: 2px solid var(--fill-color);\n",
              "    border-color: transparent;\n",
              "    border-bottom-color: var(--fill-color);\n",
              "    animation:\n",
              "      spin 1s steps(1) infinite;\n",
              "  }\n",
              "\n",
              "  @keyframes spin {\n",
              "    0% {\n",
              "      border-color: transparent;\n",
              "      border-bottom-color: var(--fill-color);\n",
              "      border-left-color: var(--fill-color);\n",
              "    }\n",
              "    20% {\n",
              "      border-color: transparent;\n",
              "      border-left-color: var(--fill-color);\n",
              "      border-top-color: var(--fill-color);\n",
              "    }\n",
              "    30% {\n",
              "      border-color: transparent;\n",
              "      border-left-color: var(--fill-color);\n",
              "      border-top-color: var(--fill-color);\n",
              "      border-right-color: var(--fill-color);\n",
              "    }\n",
              "    40% {\n",
              "      border-color: transparent;\n",
              "      border-right-color: var(--fill-color);\n",
              "      border-top-color: var(--fill-color);\n",
              "    }\n",
              "    60% {\n",
              "      border-color: transparent;\n",
              "      border-right-color: var(--fill-color);\n",
              "    }\n",
              "    80% {\n",
              "      border-color: transparent;\n",
              "      border-right-color: var(--fill-color);\n",
              "      border-bottom-color: var(--fill-color);\n",
              "    }\n",
              "    90% {\n",
              "      border-color: transparent;\n",
              "      border-bottom-color: var(--fill-color);\n",
              "    }\n",
              "  }\n",
              "</style>\n",
              "\n",
              "  <script>\n",
              "    async function quickchart(key) {\n",
              "      const quickchartButtonEl =\n",
              "        document.querySelector('#' + key + ' button');\n",
              "      quickchartButtonEl.disabled = true;  // To prevent multiple clicks.\n",
              "      quickchartButtonEl.classList.add('colab-df-spinner');\n",
              "      try {\n",
              "        const charts = await google.colab.kernel.invokeFunction(\n",
              "            'suggestCharts', [key], {});\n",
              "      } catch (error) {\n",
              "        console.error('Error during call to suggestCharts:', error);\n",
              "      }\n",
              "      quickchartButtonEl.classList.remove('colab-df-spinner');\n",
              "      quickchartButtonEl.classList.add('colab-df-quickchart-complete');\n",
              "    }\n",
              "    (() => {\n",
              "      let quickchartButtonEl =\n",
              "        document.querySelector('#df-83e38a11-ddd4-4564-bd55-b5e805948d51 button');\n",
              "      quickchartButtonEl.style.display =\n",
              "        google.colab.kernel.accessAllowed ? 'block' : 'none';\n",
              "    })();\n",
              "  </script>\n",
              "</div>\n",
              "    </div>\n",
              "  </div>\n"
            ],
            "text/plain": [
              "       pmid                                           sentence  label\n",
              "0  11174414  Severe rash, including the Stevens-Johnson syn...      1\n",
              "1  12645965      Significant systemic manifestations are rare.      0\n",
              "2  17172571  Chronic paroxysmal hemicrania (CPH) is a rare ...      0\n",
              "3  16109609  Of twenty other patients in our practice who r...      0\n",
              "4  15779196  A 74-year old white man was undergoing treatme...      0"
            ]
          },
          "execution_count": 4,
          "metadata": {},
          "output_type": "execute_result"
        }
      ],
      "source": [
        "ade_df.head()"
      ]
    },
    {
      "cell_type": "code",
      "execution_count": null,
      "metadata": {
        "colab": {
          "base_uri": "https://localhost:8080/"
        },
        "id": "uAHkEu2QG3H1",
        "outputId": "01a87c78-4833-46ce-e330-668bbc654404"
      },
      "outputs": [
        {
          "data": {
            "text/plain": [
              "Counter({1: 4272, 0: 7000})"
            ]
          },
          "execution_count": 5,
          "metadata": {},
          "output_type": "execute_result"
        }
      ],
      "source": [
        "Counter(ade_df['label'])"
      ]
    },
    {
      "cell_type": "markdown",
      "metadata": {
        "id": "kyArhbQwHMTO"
      },
      "source": [
        "Split into feature: text and outcome: label (1 evidence of adverse drug effect, 0: no evidence of adverse drug effect)"
      ]
    },
    {
      "cell_type": "code",
      "execution_count": null,
      "metadata": {
        "id": "utBc-HC5HLWH"
      },
      "outputs": [],
      "source": [
        "X_docs = ade_df['sentence'].values\n",
        "y = ade_df['label'].values"
      ]
    },
    {
      "cell_type": "markdown",
      "metadata": {
        "id": "e8X4ILPyHciK"
      },
      "source": [
        "Split the dataset into training and test"
      ]
    },
    {
      "cell_type": "code",
      "execution_count": null,
      "metadata": {
        "id": "0HRd2dATHfr5"
      },
      "outputs": [],
      "source": [
        "X_train_docs, X_test_docs, y_train, y_test = train_test_split(X_docs, y,\n",
        "                                                    test_size=0.20,\n",
        "                                                    random_state=42)"
      ]
    },
    {
      "cell_type": "code",
      "execution_count": null,
      "metadata": {
        "colab": {
          "base_uri": "https://localhost:8080/"
        },
        "id": "I-bIIKl8Hl1O",
        "outputId": "b826b66c-6635-42be-f18e-92c36c58a803"
      },
      "outputs": [
        {
          "data": {
            "text/plain": [
              "((9017,), (2255,), (9017,), (2255,))"
            ]
          },
          "execution_count": 8,
          "metadata": {},
          "output_type": "execute_result"
        }
      ],
      "source": [
        "X_train_docs.shape, X_test_docs.shape, y_train.shape, y_test.shape"
      ]
    },
    {
      "cell_type": "markdown",
      "metadata": {
        "id": "Cr_DYF24Ho-a"
      },
      "source": [
        "Distrubition of the outcome in the train and test set"
      ]
    },
    {
      "cell_type": "code",
      "execution_count": null,
      "metadata": {
        "colab": {
          "base_uri": "https://localhost:8080/"
        },
        "id": "PPUbcwXiHnI_",
        "outputId": "2e9cfc34-7bda-49c0-ebaf-133af2f7c3d6"
      },
      "outputs": [
        {
          "data": {
            "text/plain": [
              "(Counter({0: 5592, 1: 3425}), Counter({0: 1408, 1: 847}))"
            ]
          },
          "execution_count": 9,
          "metadata": {},
          "output_type": "execute_result"
        }
      ],
      "source": [
        "Counter(y_train), Counter(y_test)"
      ]
    },
    {
      "cell_type": "markdown",
      "metadata": {
        "id": "2Q_09IAKHuRC"
      },
      "source": [
        "Check a sample"
      ]
    },
    {
      "cell_type": "code",
      "execution_count": null,
      "metadata": {
        "colab": {
          "base_uri": "https://localhost:8080/",
          "height": 35
        },
        "id": "93XDL_UMHoeG",
        "outputId": "cf4972b6-44a0-4658-e817-c025907969de"
      },
      "outputs": [
        {
          "data": {
            "application/vnd.google.colaboratory.intrinsic+json": {
              "type": "string"
            },
            "text/plain": [
              "'Prolonged severe cholestasis induced by oxacillin derivatives.'"
            ]
          },
          "execution_count": 10,
          "metadata": {},
          "output_type": "execute_result"
        }
      ],
      "source": [
        "X_train_docs[10]"
      ]
    },
    {
      "cell_type": "code",
      "execution_count": null,
      "metadata": {
        "colab": {
          "base_uri": "https://localhost:8080/"
        },
        "id": "ZJ6hfY7CHwjh",
        "outputId": "b54ab139-800b-486e-cb31-1d1ce02cfa33"
      },
      "outputs": [
        {
          "data": {
            "text/plain": [
              "1"
            ]
          },
          "execution_count": 11,
          "metadata": {},
          "output_type": "execute_result"
        }
      ],
      "source": [
        "y_train[10]"
      ]
    },
    {
      "cell_type": "markdown",
      "metadata": {
        "id": "uB2RF5HKH3zI"
      },
      "source": [
        "## Recap: Shallow Classification using sklearn\n",
        "\n",
        "We will use logistic regression with **tf-idf** feature representation as a baseline model"
      ]
    },
    {
      "cell_type": "markdown",
      "metadata": {
        "id": "cwfmbmixMx09"
      },
      "source": [
        "sklearn imports"
      ]
    },
    {
      "cell_type": "code",
      "execution_count": null,
      "metadata": {
        "id": "1_uPiLbFMxSA"
      },
      "outputs": [],
      "source": [
        "from sklearn.metrics import classification_report\n",
        "from sklearn.feature_extraction.text import TfidfVectorizer\n",
        "from sklearn.pipeline import Pipeline\n",
        "from sklearn.linear_model import LogisticRegression"
      ]
    },
    {
      "cell_type": "code",
      "execution_count": null,
      "metadata": {
        "id": "2gE2u2usMm9i"
      },
      "outputs": [],
      "source": [
        "#Helper function to train and test a sklearn model\n",
        "def train_and_test(clf, X_train, y_train, X_test, y_test):\n",
        "  clf.fit(X_train, y_train)\n",
        "  y_test_pred = clf.predict(X_test)\n",
        "  print(classification_report(y_test, y_test_pred))"
      ]
    },
    {
      "cell_type": "markdown",
      "metadata": {
        "id": "smOU9wZSMUzA"
      },
      "source": [
        "We will build a pipeline where the first step is the vectorization of the input followed by"
      ]
    },
    {
      "cell_type": "code",
      "execution_count": null,
      "metadata": {
        "id": "YT6hFYqnLOCt"
      },
      "outputs": [],
      "source": [
        "lr_pipe = Pipeline([(\"vectorizer\", TfidfVectorizer(min_df=5)),\n",
        "                          (\"clf\", LogisticRegression(max_iter=300))])"
      ]
    },
    {
      "cell_type": "code",
      "execution_count": null,
      "metadata": {
        "colab": {
          "base_uri": "https://localhost:8080/"
        },
        "id": "aKANl2koNLWe",
        "outputId": "62ea10d2-6945-4547-b1ec-e961ba294d1b"
      },
      "outputs": [
        {
          "name": "stdout",
          "output_type": "stream",
          "text": [
            "              precision    recall  f1-score   support\n",
            "\n",
            "           0       0.82      0.90      0.86      1408\n",
            "           1       0.81      0.68      0.74       847\n",
            "\n",
            "    accuracy                           0.82      2255\n",
            "   macro avg       0.81      0.79      0.80      2255\n",
            "weighted avg       0.82      0.82      0.81      2255\n",
            "\n"
          ]
        }
      ],
      "source": [
        "train_and_test(lr_pipe, X_train_docs, y_train, X_test_docs, y_test)"
      ]
    },
    {
      "cell_type": "markdown",
      "metadata": {
        "id": "2AAetylnOyhx"
      },
      "source": [
        "## Text Classification using Neural Networks (NN)"
      ]
    },
    {
      "cell_type": "markdown",
      "metadata": {
        "id": "_HQZmT7ASSyN"
      },
      "source": [
        "In this section, we will use Keras (learn more about Keras: https://keras.io/), a popular deep learning library to train text classifiers.\n",
        "We will discuss two approaches:\n",
        "\n",
        "(1) NN with traditional bag-of-words (tf-idf) text representation\n",
        "\n",
        "(2) NN with dense word embeddings representation"
      ]
    },
    {
      "cell_type": "markdown",
      "metadata": {
        "id": "SIYw6HqwSrEB"
      },
      "source": [
        "### NN with tf-idf"
      ]
    },
    {
      "cell_type": "markdown",
      "metadata": {
        "id": "r-jcgyajS5rF"
      },
      "source": [
        "The Sequential model in keras is a linear stack of layers, where you can use the large variety of available layers in Keras. The most common layer is the Dense layer which is your regular densely connected neural network layer with all the weights and biases that you are already familiar with.\n",
        "\n",
        "Let’s see if we can achieve some improvement to our previous logistic regression model.\n",
        "\n",
        "Before we build our model, we need to know the input dimension of our feature vectors. This happens only in the first layer since the following layers can do automatic shape inference. In order to build the Sequential model, you can add layers one by one in order as follows:"
      ]
    },
    {
      "cell_type": "markdown",
      "metadata": {
        "id": "ae03ggFvTQJS"
      },
      "source": [
        "**Vectorize** the train and test documents using the **tfidf vectorizer**"
      ]
    },
    {
      "cell_type": "markdown",
      "metadata": {
        "id": "9T79qkVYZlU_"
      },
      "source": [
        "Notice the .toarray() after transform. This is not needed in sklearn models as it sparse representation frpom scipy but this optimized representation  is not good for keras. you simply have to transform it in a simple array."
      ]
    },
    {
      "cell_type": "code",
      "execution_count": null,
      "metadata": {
        "id": "upQtswzOasvj"
      },
      "outputs": [],
      "source": [
        "from sklearn.feature_extraction.text import TfidfVectorizer"
      ]
    },
    {
      "cell_type": "code",
      "execution_count": null,
      "metadata": {
        "id": "u-aDza_eTXQE"
      },
      "outputs": [],
      "source": [
        "vectorizer = TfidfVectorizer(min_df=5)\n",
        "vectorizer.fit(X_train_docs)\n",
        "\n",
        "X_train = vectorizer.transform(X_train_docs).toarray()\n",
        "X_test  = vectorizer.transform(X_test_docs).toarray()"
      ]
    },
    {
      "cell_type": "markdown",
      "metadata": {
        "id": "wbTcgNf_Tn_X"
      },
      "source": [
        "Shape of the training set?"
      ]
    },
    {
      "cell_type": "code",
      "execution_count": null,
      "metadata": {
        "colab": {
          "base_uri": "https://localhost:8080/"
        },
        "id": "0pCPcjRST73z",
        "outputId": "65ce8da5-eeaa-4cc6-bb7a-a69c4e950a51"
      },
      "outputs": [
        {
          "data": {
            "text/plain": [
              "array([[0., 0., 0., ..., 0., 0., 0.],\n",
              "       [0., 0., 0., ..., 0., 0., 0.],\n",
              "       [0., 0., 0., ..., 0., 0., 0.],\n",
              "       ...,\n",
              "       [0., 0., 0., ..., 0., 0., 0.],\n",
              "       [0., 0., 0., ..., 0., 0., 0.],\n",
              "       [0., 0., 0., ..., 0., 0., 0.]])"
            ]
          },
          "execution_count": 18,
          "metadata": {},
          "output_type": "execute_result"
        }
      ],
      "source": [
        "X_train"
      ]
    },
    {
      "cell_type": "code",
      "execution_count": null,
      "metadata": {
        "colab": {
          "base_uri": "https://localhost:8080/"
        },
        "id": "C_QcYPspTp4r",
        "outputId": "d2a0e283-c893-4e03-c761-abdc38a46dd0"
      },
      "outputs": [
        {
          "data": {
            "text/plain": [
              "(9017, 3518)"
            ]
          },
          "execution_count": 19,
          "metadata": {},
          "output_type": "execute_result"
        }
      ],
      "source": [
        "X_train.shape"
      ]
    },
    {
      "cell_type": "code",
      "execution_count": null,
      "metadata": {
        "colab": {
          "base_uri": "https://localhost:8080/",
          "height": 35
        },
        "id": "AzTPjoOXc6Qr",
        "outputId": "a07b939b-be3f-4c87-f70f-095d7006d758"
      },
      "outputs": [
        {
          "data": {
            "application/vnd.google.colaboratory.intrinsic+json": {
              "type": "string"
            },
            "text/plain": [
              "'Prolonged severe cholestasis induced by oxacillin derivatives.'"
            ]
          },
          "execution_count": 20,
          "metadata": {},
          "output_type": "execute_result"
        }
      ],
      "source": [
        "X_train_docs[10]"
      ]
    },
    {
      "cell_type": "code",
      "execution_count": null,
      "metadata": {
        "colab": {
          "base_uri": "https://localhost:8080/"
        },
        "id": "KCFXAeQmKvZZ",
        "outputId": "b1e5ce73-8b05-41e9-c5ff-774defd00564"
      },
      "outputs": [
        {
          "data": {
            "text/plain": [
              "(9017, 3518)"
            ]
          },
          "execution_count": 21,
          "metadata": {},
          "output_type": "execute_result"
        }
      ],
      "source": [
        "X_train.shape"
      ]
    },
    {
      "cell_type": "code",
      "execution_count": null,
      "metadata": {
        "colab": {
          "base_uri": "https://localhost:8080/"
        },
        "id": "4eXhqMOXyH-g",
        "outputId": "569ae230-758d-4d9d-b4f1-266a41d23ec2"
      },
      "outputs": [
        {
          "data": {
            "text/plain": [
              "array([0., 0., 0., ..., 0., 0., 0.])"
            ]
          },
          "execution_count": 22,
          "metadata": {},
          "output_type": "execute_result"
        }
      ],
      "source": [
        "X_train[10]"
      ]
    },
    {
      "cell_type": "markdown",
      "metadata": {
        "id": "V19aFrDVO6yk"
      },
      "source": [
        "What does this represent?"
      ]
    },
    {
      "cell_type": "markdown",
      "metadata": {
        "id": "Mq_IdNITUPwY"
      },
      "source": [
        "**Define a NN network architecture**"
      ]
    },
    {
      "cell_type": "markdown",
      "metadata": {
        "id": "x2T4-7QfgrbX"
      },
      "source": [
        "Helper function to visualize training loss at each epoch"
      ]
    },
    {
      "cell_type": "code",
      "execution_count": null,
      "metadata": {
        "id": "elT3rcQygyPB"
      },
      "outputs": [],
      "source": [
        "plt.style.use('ggplot')\n",
        "\n",
        "def plot_history(history):\n",
        "    acc = history.history['accuracy']\n",
        "    val_acc = history.history['val_accuracy']\n",
        "    loss = history.history['loss']\n",
        "    val_loss = history.history['val_loss']\n",
        "    x = range(1, len(acc) + 1)\n",
        "\n",
        "    plt.figure(figsize=(12, 5))\n",
        "    plt.subplot(1, 2, 1)\n",
        "    plt.plot(x, acc, 'b', label='Training acc')\n",
        "    plt.plot(x, val_acc, 'r', label='Validation acc')\n",
        "    plt.title('Training and validation accuracy')\n",
        "    plt.legend()\n",
        "    plt.subplot(1, 2, 2)\n",
        "    plt.plot(x, loss, 'b', label='Training loss')\n",
        "    plt.plot(x, val_loss, 'r', label='Validation loss')\n",
        "    plt.title('Training and validation loss')\n",
        "    plt.legend()"
      ]
    },
    {
      "cell_type": "code",
      "execution_count": null,
      "metadata": {
        "id": "Vft8NDrAUXCC"
      },
      "outputs": [],
      "source": [
        "import keras\n",
        "from keras.models import Sequential\n",
        "from keras.layers import Dense\n",
        "from keras.layers import Dropout"
      ]
    },
    {
      "cell_type": "markdown",
      "metadata": {
        "id": "3wE4xs5HUb_q"
      },
      "source": [
        "Number of features in the input layer : size of the vocabulary"
      ]
    },
    {
      "cell_type": "code",
      "execution_count": null,
      "metadata": {
        "id": "8Jk_Krj3Ua5m"
      },
      "outputs": [],
      "source": [
        "input_dim = X_train.shape[1]"
      ]
    },
    {
      "cell_type": "code",
      "execution_count": null,
      "metadata": {
        "colab": {
          "base_uri": "https://localhost:8080/"
        },
        "id": "TakOprlOyUu4",
        "outputId": "363d0784-becf-408d-d927-2c2cefc8b1a7"
      },
      "outputs": [
        {
          "data": {
            "text/plain": [
              "3518"
            ]
          },
          "execution_count": 26,
          "metadata": {},
          "output_type": "execute_result"
        }
      ],
      "source": [
        "input_dim"
      ]
    },
    {
      "cell_type": "code",
      "execution_count": null,
      "metadata": {
        "colab": {
          "base_uri": "https://localhost:8080/"
        },
        "id": "V9jespXqVTGF",
        "outputId": "a374c779-308c-4cc3-8ef3-51d981d06bc7"
      },
      "outputs": [
        {
          "data": {
            "text/plain": [
              "3518"
            ]
          },
          "execution_count": 27,
          "metadata": {},
          "output_type": "execute_result"
        }
      ],
      "source": [
        "input_dim"
      ]
    },
    {
      "cell_type": "markdown",
      "metadata": {
        "id": "I2OdeR8XUhxH"
      },
      "source": [
        "NN architecture with 1 hidden layers of size 32"
      ]
    },
    {
      "cell_type": "code",
      "execution_count": null,
      "metadata": {
        "id": "URvp22UsUMOZ"
      },
      "outputs": [],
      "source": [
        "nn_model = Sequential()\n",
        "nn_model.add(Dense(32, input_dim=input_dim, activation='relu'))\n",
        "nn_model.add(Dense(1, activation='sigmoid'))"
      ]
    },
    {
      "cell_type": "markdown",
      "metadata": {
        "id": "oIRcB1VWU2ZG"
      },
      "source": [
        "**Compile and view the NN architecture**"
      ]
    },
    {
      "cell_type": "markdown",
      "metadata": {
        "id": "di87PdOeVF8N"
      },
      "source": [
        "Before you can start with the training of the model, you need to configure the learning process. This is done with the .compile() method. This method specifies the optimizer and the loss function.\n",
        "\n",
        "Additionally, you can add a list of metrics which can be later used for evaluation, but they do not influence the training. In this case, we want to use the binary cross entropy and the Adam optimizer you saw in the primer mentioned before. Keras also includes a handy .summary() function to give an overview of the model and the number of parameters available for training:"
      ]
    },
    {
      "cell_type": "code",
      "execution_count": null,
      "metadata": {
        "colab": {
          "base_uri": "https://localhost:8080/"
        },
        "id": "gdn3Mn71d-K7",
        "outputId": "87a32f25-df7b-4c97-d011-9d2aca805904"
      },
      "outputs": [
        {
          "data": {
            "text/plain": [
              "3518"
            ]
          },
          "execution_count": 29,
          "metadata": {},
          "output_type": "execute_result"
        }
      ],
      "source": [
        "input_dim"
      ]
    },
    {
      "cell_type": "markdown",
      "metadata": {
        "id": "m0FCWiv3y0VP"
      },
      "source": [
        "(3518*32 + 32) + (32+1)"
      ]
    },
    {
      "cell_type": "code",
      "execution_count": null,
      "metadata": {
        "colab": {
          "base_uri": "https://localhost:8080/"
        },
        "id": "UDFPS3mvU7gR",
        "outputId": "10d3942c-b92a-4e2e-a40c-e32821066834"
      },
      "outputs": [
        {
          "name": "stdout",
          "output_type": "stream",
          "text": [
            "Model: \"sequential\"\n",
            "_________________________________________________________________\n",
            " Layer (type)                Output Shape              Param #   \n",
            "=================================================================\n",
            " dense (Dense)               (None, 32)                112608    \n",
            "                                                                 \n",
            " dense_1 (Dense)             (None, 1)                 33        \n",
            "                                                                 \n",
            "=================================================================\n",
            "Total params: 112641 (440.00 KB)\n",
            "Trainable params: 112641 (440.00 KB)\n",
            "Non-trainable params: 0 (0.00 Byte)\n",
            "_________________________________________________________________\n"
          ]
        }
      ],
      "source": [
        "nn_model.compile(loss='binary_crossentropy',\n",
        "              optimizer='adam',\n",
        "              metrics=['accuracy'])\n",
        "nn_model.summary()"
      ]
    },
    {
      "cell_type": "markdown",
      "metadata": {
        "id": "O_oQNNq1VH_R"
      },
      "source": [
        "Why 112641 params/weights in the first layer?"
      ]
    },
    {
      "cell_type": "markdown",
      "metadata": {
        "id": "W2wGhn9XVoyh"
      },
      "source": [
        "**Train model**\n",
        "\n",
        "Define epochs, batch_size, and validation data"
      ]
    },
    {
      "cell_type": "markdown",
      "metadata": {
        "id": "_KkQ-cwEV0vo"
      },
      "source": [
        "Since the training in neural networks is an iterative process, the training won’t just stop after it is done. You have to specify the number of iterations you want the model to be training. Those completed iterations are commonly called epochs. We want to run it for 100 epochs to be able to see how the training loss and accuracy are changing after each epoch.\n",
        "\n",
        "Another parameter you have to your selection is the batch size. The batch size is responsible for how many samples we want to use in one epoch, which means how many samples are used in one forward/backward pass. This increases the speed of the computation as it need fewer epochs to run, but it also needs more memory, and the model may degrade with larger batch sizes. Since we have a small training set, we can leave this to a low batch size:"
      ]
    },
    {
      "cell_type": "code",
      "execution_count": null,
      "metadata": {
        "colab": {
          "base_uri": "https://localhost:8080/"
        },
        "id": "YhG4CaqZWbNM",
        "outputId": "c11b5257-ed34-4040-8208-8574cf663f23"
      },
      "outputs": [
        {
          "data": {
            "text/plain": [
              "((9017, 3518), (9017,))"
            ]
          },
          "execution_count": 31,
          "metadata": {},
          "output_type": "execute_result"
        }
      ],
      "source": [
        "X_train.shape, y_train.shape"
      ]
    },
    {
      "cell_type": "code",
      "execution_count": null,
      "metadata": {
        "colab": {
          "base_uri": "https://localhost:8080/"
        },
        "id": "Q5VMqvqhVHLW",
        "outputId": "f121064b-bab8-450d-c9d1-c2078f4e8291"
      },
      "outputs": [
        {
          "name": "stdout",
          "output_type": "stream",
          "text": [
            "Epoch 1/7\n",
            "226/226 [==============================] - 2s 6ms/step - loss: 0.5972 - accuracy: 0.6857 - val_loss: 0.4983 - val_accuracy: 0.8076\n",
            "Epoch 2/7\n",
            "226/226 [==============================] - 1s 5ms/step - loss: 0.4084 - accuracy: 0.8425 - val_loss: 0.4083 - val_accuracy: 0.8232\n",
            "Epoch 3/7\n",
            "226/226 [==============================] - 1s 5ms/step - loss: 0.3102 - accuracy: 0.8819 - val_loss: 0.3868 - val_accuracy: 0.8298\n",
            "Epoch 4/7\n",
            "226/226 [==============================] - 1s 5ms/step - loss: 0.2554 - accuracy: 0.9067 - val_loss: 0.3876 - val_accuracy: 0.8320\n",
            "Epoch 5/7\n",
            "226/226 [==============================] - 2s 7ms/step - loss: 0.2181 - accuracy: 0.9214 - val_loss: 0.4039 - val_accuracy: 0.8237\n",
            "Epoch 6/7\n",
            "226/226 [==============================] - 2s 8ms/step - loss: 0.1898 - accuracy: 0.9344 - val_loss: 0.4196 - val_accuracy: 0.8187\n",
            "Epoch 7/7\n",
            "226/226 [==============================] - 1s 7ms/step - loss: 0.1676 - accuracy: 0.9463 - val_loss: 0.4431 - val_accuracy: 0.8171\n"
          ]
        }
      ],
      "source": [
        "history = nn_model.fit(X_train, y_train,\n",
        "                    epochs=7,\n",
        "                    validation_split = 0.2,\n",
        "                    batch_size=32)"
      ]
    },
    {
      "cell_type": "markdown",
      "metadata": {
        "id": "syophgfUaEdh"
      },
      "source": [
        "*Visualize loss*"
      ]
    },
    {
      "cell_type": "code",
      "execution_count": null,
      "metadata": {
        "colab": {
          "base_uri": "https://localhost:8080/",
          "height": 469
        },
        "id": "Fh9zebuDaar5",
        "outputId": "23b84c4c-ef39-498b-af38-0f06665f91de"
      },
      "outputs": [
        {
          "data": {
            "image/png": "[encoded data removed]",
            "text/plain": [
              "<Figure size 1200x500 with 2 Axes>"
            ]
          },
          "metadata": {},
          "output_type": "display_data"
        }
      ],
      "source": [
        "plot_history(history)"
      ]
    },
    {
      "cell_type": "markdown",
      "metadata": {
        "id": "u6Qs4ahGg_TH"
      },
      "source": [
        "Helper function to evaluate a trained Keras `model` on the test set"
      ]
    },
    {
      "cell_type": "code",
      "execution_count": null,
      "metadata": {
        "id": "Op1ZzTpeg5eR"
      },
      "outputs": [],
      "source": [
        "def evaluate_keras_model(model, X_test, y_test):\n",
        "  # Predicting the Test set results\n",
        "  y_pred_prob = model.predict(X_test)\n",
        "  y_pred = (y_pred_prob > 0.5).astype(\"int32\")\n",
        "  print(classification_report(y_test,y_pred))"
      ]
    },
    {
      "cell_type": "code",
      "execution_count": null,
      "metadata": {
        "colab": {
          "base_uri": "https://localhost:8080/"
        },
        "id": "_cTwzEsDhTxq",
        "outputId": "4589bf96-581f-48ee-d1c4-f81f04c56d44"
      },
      "outputs": [
        {
          "name": "stdout",
          "output_type": "stream",
          "text": [
            "71/71 [==============================] - 0s 2ms/step\n",
            "              precision    recall  f1-score   support\n",
            "\n",
            "           0       0.85      0.85      0.85      1408\n",
            "           1       0.74      0.74      0.74       847\n",
            "\n",
            "    accuracy                           0.81      2255\n",
            "   macro avg       0.79      0.79      0.79      2255\n",
            "weighted avg       0.81      0.81      0.81      2255\n",
            "\n"
          ]
        }
      ],
      "source": [
        "evaluate_keras_model(nn_model, X_test, y_test)"
      ]
    },
    {
      "cell_type": "markdown",
      "metadata": {
        "id": "G3Y9zZhyiI8O"
      },
      "source": [
        "### NN with Word Embeddings"
      ]
    },
    {
      "cell_type": "markdown",
      "metadata": {
        "id": "nEjHt-hAik7u"
      },
      "source": [
        "In this section, we will define a network with an embedding layer, which maps each word in our input layer/vocab to a fixed dense word vector of some size (50, 100, 200 etc.)."
      ]
    },
    {
      "cell_type": "markdown",
      "metadata": {
        "id": "kI-WZ28Hi-VM"
      },
      "source": [
        "Note that the word embeddings do not understand the text as a human would, but they rather map the statistical structure of the language used in the corpus. Their aim is to map semantic meaning into a geometric space. This geometric space is then called the **embedding space**."
      ]
    },
    {
      "cell_type": "markdown",
      "metadata": {
        "id": "IFHRRKdTi_xk"
      },
      "source": [
        "How can you get such a word embedding? You have two options for this. One way is to train your word embeddings during the training of your neural network. The other way is by using pretrained word embeddings which you can directly use in your model. There you have the option to either leave these word embeddings unchanged during training or you train them also. We will use the first approach of learning the embeddings space as part of the training the classifier"
      ]
    },
    {
      "cell_type": "markdown",
      "metadata": {
        "id": "zzZXtp7wjZ-3"
      },
      "source": [
        "**Tokenize text**"
      ]
    },
    {
      "cell_type": "markdown",
      "metadata": {
        "id": "p-_zufpCjR3E"
      },
      "source": [
        "First step is to tokenize the text using `Tokenizer` utility class from Keras."
      ]
    },
    {
      "cell_type": "markdown",
      "metadata": {
        "id": "NADGCAa8jk_N"
      },
      "source": [
        "This vectorizes a text corpus into a list of integers. Each integer maps to a value in a dictionary that encodes the entire corpus, with the keys in the dictionary being the vocabulary terms themselves. You can add the parameter num_words, which is responsible for setting the size of the vocabulary. The most common `num_words` words will be then kept."
      ]
    },
    {
      "cell_type": "code",
      "execution_count": null,
      "metadata": {
        "id": "mDhhl_NFkpNe"
      },
      "outputs": [],
      "source": [
        "from keras.preprocessing.text import Tokenizer\n",
        "tokenizer = Tokenizer(num_words=5000, lower=True)\n",
        "tokenizer.fit_on_texts(X_train_docs)"
      ]
    },
    {
      "cell_type": "code",
      "execution_count": null,
      "metadata": {
        "id": "uhT2Eiwui9-M"
      },
      "outputs": [],
      "source": [
        "X_train = tokenizer.texts_to_sequences(X_train_docs)\n",
        "X_test = tokenizer.texts_to_sequences(X_test_docs)"
      ]
    },
    {
      "cell_type": "code",
      "execution_count": null,
      "metadata": {
        "id": "_ETQYbTslLkY"
      },
      "outputs": [],
      "source": [
        "tokenizer.word_index"
      ]
    },
    {
      "cell_type": "code",
      "execution_count": null,
      "metadata": {
        "colab": {
          "base_uri": "https://localhost:8080/"
        },
        "id": "yBHopdF-iOiz",
        "outputId": "f554bb17-14fe-4347-df93-fe18a1218170"
      },
      "outputs": [
        {
          "data": {
            "text/plain": [
              "12139"
            ]
          },
          "execution_count": 39,
          "metadata": {},
          "output_type": "execute_result"
        }
      ],
      "source": [
        "vocab_size = len(tokenizer.word_index) + 1\n",
        "vocab_size"
      ]
    },
    {
      "cell_type": "markdown",
      "metadata": {
        "id": "zWMnxyqUlaku"
      },
      "source": [
        "The indexing is ordered after the most common words in the text, which you can see by the word the having the index 1. It is important to note that the index 0 is reserved and is not assigned to any word.\n",
        "\n",
        "Unknown words (words that are not in the vocabulary) are denoted in Keras with word_count + 1 since they can also hold some information. We can see the index of each word by taking a look at the word_index dictionary of the Tokenizer object:"
      ]
    },
    {
      "cell_type": "code",
      "execution_count": null,
      "metadata": {
        "colab": {
          "base_uri": "https://localhost:8080/"
        },
        "id": "roL3WpU5lhMy",
        "outputId": "8aecf9d3-252d-42d3-c88b-8570989ecd5a"
      },
      "outputs": [
        {
          "data": {
            "text/plain": [
              "24"
            ]
          },
          "execution_count": 41,
          "metadata": {},
          "output_type": "execute_result"
        }
      ],
      "source": [
        "tokenizer.word_index['induced']\n",
        "#tokenizer.word_index['derivatives']"
      ]
    },
    {
      "cell_type": "code",
      "execution_count": null,
      "metadata": {
        "colab": {
          "base_uri": "https://localhost:8080/"
        },
        "id": "XEBQ7PCP_jI4",
        "outputId": "e92d443c-e6ea-4af1-ffdd-ba3af38d5bc6"
      },
      "outputs": [
        {
          "data": {
            "text/plain": [
              "5471"
            ]
          },
          "execution_count": 42,
          "metadata": {},
          "output_type": "execute_result"
        }
      ],
      "source": [
        "tokenizer.word_index['oxacillin']"
      ]
    },
    {
      "cell_type": "markdown",
      "metadata": {
        "id": "niBjVnJTl4-7"
      },
      "source": [
        "Check how a document is encoded by the Keras tokenizer"
      ]
    },
    {
      "cell_type": "markdown",
      "metadata": {
        "id": "9mHqIws1mBPd"
      },
      "source": [
        "Text"
      ]
    },
    {
      "cell_type": "code",
      "execution_count": null,
      "metadata": {
        "colab": {
          "base_uri": "https://localhost:8080/",
          "height": 53
        },
        "id": "olRKcUJjl4Y9",
        "outputId": "edcdd2b6-273a-4b43-c2bc-dfe012e54da4"
      },
      "outputs": [
        {
          "data": {
            "application/vnd.google.colaboratory.intrinsic+json": {
              "type": "string"
            },
            "text/plain": [
              "'Marked QT prolongation and torsades de pointes secondary to acute ischemia in an elderly man taking dofetilide for atrial fibrillation: a cautionary tale.'"
            ]
          },
          "execution_count": 51,
          "metadata": {},
          "output_type": "execute_result"
        }
      ],
      "source": [
        "X_train_docs[11]"
      ]
    },
    {
      "cell_type": "markdown",
      "metadata": {
        "id": "pFaplOZ7mCEw"
      },
      "source": [
        "Encoded word index"
      ]
    },
    {
      "cell_type": "code",
      "execution_count": null,
      "metadata": {
        "colab": {
          "base_uri": "https://localhost:8080/"
        },
        "id": "72u6S00o01iI",
        "outputId": "ffe9c824-7bb8-4fd7-a3e9-05a88c8a1027"
      },
      "outputs": [
        {
          "data": {
            "text/plain": [
              "5471"
            ]
          },
          "execution_count": 49,
          "metadata": {},
          "output_type": "execute_result"
        }
      ],
      "source": [
        "tokenizer.word_index['oxacillin']"
      ]
    },
    {
      "cell_type": "code",
      "execution_count": null,
      "metadata": {
        "colab": {
          "base_uri": "https://localhost:8080/"
        },
        "id": "9v9u3d32l_oH",
        "outputId": "647831eb-1d3f-4622-e00c-af6cec7c26e6"
      },
      "outputs": [
        {
          "data": {
            "text/plain": [
              "18"
            ]
          },
          "execution_count": 55,
          "metadata": {},
          "output_type": "execute_result"
        }
      ],
      "source": [
        "len(X_train[12])"
      ]
    },
    {
      "cell_type": "code",
      "execution_count": null,
      "metadata": {
        "colab": {
          "base_uri": "https://localhost:8080/"
        },
        "id": "3ibQaRkFm5zn",
        "outputId": "3ed2f2ea-23c5-40c4-fa67-4266ee17e188"
      },
      "outputs": [
        {
          "data": {
            "text/plain": [
              "5471"
            ]
          },
          "execution_count": 50,
          "metadata": {},
          "output_type": "execute_result"
        }
      ],
      "source": [
        "tokenizer.word_index['oxacillin']"
      ]
    },
    {
      "cell_type": "markdown",
      "metadata": {
        "id": "aP0Uvimem8H1"
      },
      "source": [
        "What is the issue above?"
      ]
    },
    {
      "cell_type": "markdown",
      "metadata": {
        "id": "tN_80jIXnC4v"
      },
      "source": [
        "**Text padding**"
      ]
    },
    {
      "cell_type": "markdown",
      "metadata": {
        "id": "R3WELS-JnEaE"
      },
      "source": [
        "One problem that we have is that each text sequence has in most cases different length of words. To counter this, you can use pad_sequence() which simply pads the sequence of words with zeros. By default, it prepends zeros but we want to append them. Typically it does not matter whether you prepend or append zeros.\n",
        "\n",
        "Additionally you would want to add a maxlen parameter to specify how long the sequences should be. This cuts sequences that exceed that number. This could be the maximum tokens in our training set or set by user. We will use the first method"
      ]
    },
    {
      "cell_type": "code",
      "execution_count": null,
      "metadata": {
        "colab": {
          "base_uri": "https://localhost:8080/",
          "height": 53
        },
        "id": "EDEPaAG_hFPe",
        "outputId": "a64a9b84-ebb4-4641-c478-2c731423bd2a"
      },
      "outputs": [
        {
          "data": {
            "application/vnd.google.colaboratory.intrinsic+json": {
              "type": "string"
            },
            "text/plain": [
              "'Marked QT prolongation and torsades de pointes secondary to acute ischemia in an elderly man taking dofetilide for atrial fibrillation: a cautionary tale.'"
            ]
          },
          "execution_count": 56,
          "metadata": {},
          "output_type": "execute_result"
        }
      ],
      "source": [
        "X_train_docs[11]"
      ]
    },
    {
      "cell_type": "code",
      "execution_count": null,
      "metadata": {
        "colab": {
          "base_uri": "https://localhost:8080/"
        },
        "id": "MZC009uShRB1",
        "outputId": "5cfbc6de-2c36-4a1d-9e61-06cb91606054"
      },
      "outputs": [
        {
          "data": {
            "text/plain": [
              "[491,\n",
              " 1000,\n",
              " 1563,\n",
              " 3,\n",
              " 2128,\n",
              " 832,\n",
              " 1673,\n",
              " 166,\n",
              " 7,\n",
              " 35,\n",
              " 1674,\n",
              " 6,\n",
              " 18,\n",
              " 632,\n",
              " 102,\n",
              " 177,\n",
              " 3629,\n",
              " 10,\n",
              " 516,\n",
              " 633,\n",
              " 4]"
            ]
          },
          "execution_count": 57,
          "metadata": {},
          "output_type": "execute_result"
        }
      ],
      "source": [
        "X_train[11]"
      ]
    },
    {
      "cell_type": "code",
      "execution_count": null,
      "metadata": {
        "colab": {
          "base_uri": "https://localhost:8080/"
        },
        "id": "Y57EftiunmDY",
        "outputId": "2543b4d9-db0e-49c4-beb6-e33bd2678cc9"
      },
      "outputs": [
        {
          "data": {
            "text/plain": [
              "21"
            ]
          },
          "execution_count": 58,
          "metadata": {},
          "output_type": "execute_result"
        }
      ],
      "source": [
        "len(X_train[11])"
      ]
    },
    {
      "cell_type": "markdown",
      "metadata": {
        "id": "f1t1axTcnWcO"
      },
      "source": [
        "Maximum num of tokens in our training set"
      ]
    },
    {
      "cell_type": "code",
      "execution_count": null,
      "metadata": {
        "id": "vsZ2jnRlnJt1"
      },
      "outputs": [],
      "source": [
        "def get_max_doc_len(X_train):\n",
        "  max_len = 0\n",
        "  for doc in X_train:\n",
        "    if len(doc) > max_len: max_len = len(doc)\n",
        "  return max_len"
      ]
    },
    {
      "cell_type": "code",
      "execution_count": null,
      "metadata": {
        "colab": {
          "base_uri": "https://localhost:8080/"
        },
        "id": "OrdEg7hMntgg",
        "outputId": "d5af8021-e8b9-4e2b-ca4a-93a39b408bfd"
      },
      "outputs": [
        {
          "data": {
            "text/plain": [
              "91"
            ]
          },
          "execution_count": 60,
          "metadata": {},
          "output_type": "execute_result"
        }
      ],
      "source": [
        "maxlen = get_max_doc_len(X_train)\n",
        "maxlen"
      ]
    },
    {
      "cell_type": "code",
      "execution_count": null,
      "metadata": {
        "id": "0opAorKWn75z"
      },
      "outputs": [],
      "source": [
        "from keras.utils import pad_sequences\n",
        "X_train = pad_sequences(X_train, padding='post', maxlen=maxlen)\n",
        "X_test = pad_sequences(X_test, padding='post', maxlen=maxlen)"
      ]
    },
    {
      "cell_type": "markdown",
      "metadata": {
        "id": "Jl6iEZbJn-s2"
      },
      "source": [
        "After padding"
      ]
    },
    {
      "cell_type": "code",
      "execution_count": null,
      "metadata": {
        "colab": {
          "base_uri": "https://localhost:8080/"
        },
        "id": "ZknjzawgiNMb",
        "outputId": "36269d06-d287-40b0-ef5c-948445df156b"
      },
      "outputs": [
        {
          "data": {
            "text/plain": [
              "array([ 311,   45, 1080,   24,   19, 3142,    0,    0,    0,    0,    0,\n",
              "          0,    0,    0,    0,    0,    0,    0,    0,    0,    0,    0,\n",
              "          0,    0,    0,    0,    0,    0,    0,    0,    0,    0,    0,\n",
              "          0,    0,    0,    0,    0,    0,    0,    0,    0,    0,    0,\n",
              "          0,    0,    0,    0,    0,    0,    0,    0,    0,    0,    0,\n",
              "          0,    0,    0,    0,    0,    0,    0,    0,    0,    0,    0,\n",
              "          0,    0,    0,    0,    0,    0,    0,    0,    0,    0,    0,\n",
              "          0,    0,    0,    0,    0,    0,    0,    0,    0,    0,    0,\n",
              "          0,    0,    0], dtype=int32)"
            ]
          },
          "execution_count": 62,
          "metadata": {},
          "output_type": "execute_result"
        }
      ],
      "source": [
        "X_train[10]"
      ]
    },
    {
      "cell_type": "code",
      "execution_count": null,
      "metadata": {
        "colab": {
          "base_uri": "https://localhost:8080/"
        },
        "id": "exIrmU1VoBGD",
        "outputId": "ff3b81e3-4ae3-4e8f-a825-4d84e63a479b"
      },
      "outputs": [
        {
          "name": "stdout",
          "output_type": "stream",
          "text": [
            "[ 311   45 1080   24   19 3142    0    0    0    0    0    0    0    0\n",
            "    0    0    0    0    0    0    0    0    0    0    0    0    0    0\n",
            "    0    0    0    0    0    0    0    0    0    0    0    0    0    0\n",
            "    0    0    0    0    0    0    0    0    0    0    0    0    0    0\n",
            "    0    0    0    0    0    0    0    0    0    0    0    0    0    0\n",
            "    0    0    0    0    0    0    0    0    0    0    0    0    0    0\n",
            "    0    0    0    0    0    0    0]\n"
          ]
        }
      ],
      "source": [
        "print(X_train[10, :])"
      ]
    },
    {
      "cell_type": "code",
      "execution_count": null,
      "metadata": {
        "colab": {
          "base_uri": "https://localhost:8080/"
        },
        "id": "pxIHuIuailfk",
        "outputId": "d3e3f6d0-41ce-4155-9a17-2b5a6c2a203c"
      },
      "outputs": [
        {
          "name": "stdout",
          "output_type": "stream",
          "text": [
            "[ 491 1000 1563    3 2128  832 1673  166    7   35 1674    6   18  632\n",
            "  102  177 3629   10  516  633    4    0    0    0    0    0    0    0\n",
            "    0    0    0    0    0    0    0    0    0    0    0    0    0    0\n",
            "    0    0    0    0    0    0    0    0    0    0    0    0    0    0\n",
            "    0    0    0    0    0    0    0    0    0    0    0    0    0    0\n",
            "    0    0    0    0    0    0    0    0    0    0    0    0    0    0\n",
            "    0    0    0    0    0    0    0]\n"
          ]
        }
      ],
      "source": [
        "print(X_train[11, :])"
      ]
    },
    {
      "cell_type": "markdown",
      "metadata": {
        "id": "4lvYDFBXofUH"
      },
      "source": [
        "**Keras Embedding Layer**"
      ]
    },
    {
      "cell_type": "markdown",
      "metadata": {
        "id": "J-IRll2sol6p"
      },
      "source": [
        "Notice that, at this point, our data is still hardcoded. We have not told Keras to learn a new embedding space through successive tasks. Now you can use the Embedding Layer of Keras which takes the previously calculated integers and maps them to a dense vector of the embedding.\n"
      ]
    },
    {
      "cell_type": "markdown",
      "metadata": {
        "id": "vbMZGS4qorrS"
      },
      "source": [
        "After adding the embedding layer (say of size/dimension = d =  50), each tokenized word in our corpus will be represented by 50 dimension vector and hence each sentence in our corpus will be a 2D matrix of size vocab_size*50. How can we handle such a 2D input matrix in a neural network archticture. One approach is just to flatten the 2D (strech) to 1D layer and then plug it to any number of hidden Dense layers.\n",
        "\n",
        "\n",
        "In order to do this you have to add a `Flatten` layer in between that prepares the sequential input for the Dense layer:"
      ]
    },
    {
      "cell_type": "markdown",
      "metadata": {
        "id": "RjvW0sPMquzA"
      },
      "source": [
        "![image.png](data:image/png;base64,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)"
      ]
    },
    {
      "cell_type": "markdown",
      "metadata": {
        "id": "RBeHI_mtq04L"
      },
      "source": [
        "Let's define an word embedding size of 50."
      ]
    },
    {
      "cell_type": "code",
      "execution_count": null,
      "metadata": {
        "id": "uOgxwSn9oEwD"
      },
      "outputs": [],
      "source": [
        "embedding_dim = 50"
      ]
    },
    {
      "cell_type": "markdown",
      "metadata": {
        "id": "3JMdcsF7q-HP"
      },
      "source": [
        "Create a **sequential** keras model"
      ]
    },
    {
      "cell_type": "code",
      "execution_count": null,
      "metadata": {
        "id": "7HbDpcN4q9cK"
      },
      "outputs": [],
      "source": [
        "model = Sequential()"
      ]
    },
    {
      "cell_type": "markdown",
      "metadata": {
        "id": "LNePurl3rMt9"
      },
      "source": [
        "Add an **embedding** layer"
      ]
    },
    {
      "cell_type": "markdown",
      "metadata": {
        "id": "JngrNRjwrd9n"
      },
      "source": [
        "To define an embedding layer, we  will need the following parameters:\n",
        "\n",
        "* input_dim: the size of the vocabulary\n",
        "* output_dim: the size of the dense vector\n",
        "* input_length: the length of the sequence"
      ]
    },
    {
      "cell_type": "code",
      "execution_count": null,
      "metadata": {
        "colab": {
          "base_uri": "https://localhost:8080/"
        },
        "id": "q3y5I7tZsfUa",
        "outputId": "44d984d8-c7b7-4896-e8cd-cdd3f0524f2e"
      },
      "outputs": [
        {
          "data": {
            "text/plain": [
              "(12139, 91)"
            ]
          },
          "execution_count": 67,
          "metadata": {},
          "output_type": "execute_result"
        }
      ],
      "source": [
        "vocab_size, maxlen"
      ]
    },
    {
      "cell_type": "code",
      "execution_count": null,
      "metadata": {
        "id": "FZh1ScHjrTHx"
      },
      "outputs": [],
      "source": [
        "from keras.layers import Embedding"
      ]
    },
    {
      "cell_type": "markdown",
      "metadata": {
        "id": "fFyru31ArdbN"
      },
      "source": []
    },
    {
      "cell_type": "code",
      "execution_count": null,
      "metadata": {
        "id": "6XcwsPAarPKx"
      },
      "outputs": [],
      "source": [
        "model.add(Embedding(input_dim=vocab_size,\n",
        "                           output_dim=embedding_dim,\n",
        "                           input_length=maxlen))"
      ]
    },
    {
      "cell_type": "markdown",
      "metadata": {
        "id": "C_wbVTpErvbP"
      },
      "source": [
        "Add the **flattening** layer"
      ]
    },
    {
      "cell_type": "code",
      "execution_count": null,
      "metadata": {
        "id": "YotaeP7bry4g"
      },
      "outputs": [],
      "source": [
        "from keras.layers import Flatten"
      ]
    },
    {
      "cell_type": "code",
      "execution_count": null,
      "metadata": {
        "id": "am3RVpLOr2CQ"
      },
      "outputs": [],
      "source": [
        "model.add(Flatten())"
      ]
    },
    {
      "cell_type": "markdown",
      "metadata": {
        "id": "PD2qd5IXr4rr"
      },
      "source": [
        "Complete the deep learning architecture using hidden layer(s) and output layer"
      ]
    },
    {
      "cell_type": "code",
      "execution_count": null,
      "metadata": {
        "id": "FWDnxv-AsAyJ"
      },
      "outputs": [],
      "source": [
        "model.add(Dense(32, activation='relu'))\n",
        "model.add(Dense(1, activation='sigmoid'))"
      ]
    },
    {
      "cell_type": "markdown",
      "metadata": {
        "id": "KkTtE-QIsFG1"
      },
      "source": [
        "**Compile** the network"
      ]
    },
    {
      "cell_type": "code",
      "execution_count": null,
      "metadata": {
        "colab": {
          "base_uri": "https://localhost:8080/"
        },
        "id": "nNdu_eGTsHPC",
        "outputId": "b51a0829-6f29-45b7-f701-2c1cef337382"
      },
      "outputs": [
        {
          "name": "stdout",
          "output_type": "stream",
          "text": [
            "Model: \"sequential_1\"\n",
            "_________________________________________________________________\n",
            " Layer (type)                Output Shape              Param #   \n",
            "=================================================================\n",
            " embedding (Embedding)       (None, 91, 50)            606950    \n",
            "                                                                 \n",
            " flatten (Flatten)           (None, 4550)              0         \n",
            "                                                                 \n",
            " dense_2 (Dense)             (None, 32)                145632    \n",
            "                                                                 \n",
            " dense_3 (Dense)             (None, 1)                 33        \n",
            "                                                                 \n",
            "=================================================================\n",
            "Total params: 752615 (2.87 MB)\n",
            "Trainable params: 752615 (2.87 MB)\n",
            "Non-trainable params: 0 (0.00 Byte)\n",
            "_________________________________________________________________\n"
          ]
        }
      ],
      "source": [
        "model.compile(optimizer='adam',\n",
        "              loss='binary_crossentropy',\n",
        "              metrics=['accuracy'])\n",
        "model.summary()"
      ]
    },
    {
      "cell_type": "markdown",
      "metadata": {
        "id": "Q8C2wKXwtcxm"
      },
      "source": [
        "**Explain the number of params?**"
      ]
    },
    {
      "cell_type": "markdown",
      "metadata": {
        "id": "7rYX8otjtZak"
      },
      "source": [
        "**Train** the network"
      ]
    },
    {
      "cell_type": "code",
      "execution_count": null,
      "metadata": {
        "colab": {
          "base_uri": "https://localhost:8080/"
        },
        "id": "QrmE7mdxtcV_",
        "outputId": "bd1ce4f2-9bc0-45d2-ec3e-91419012ac17"
      },
      "outputs": [
        {
          "name": "stdout",
          "output_type": "stream",
          "text": [
            "Epoch 1/10\n",
            "226/226 [==============================] - 5s 16ms/step - loss: 0.5938 - accuracy: 0.6791 - val_loss: 0.4674 - val_accuracy: 0.7777\n",
            "Epoch 2/10\n",
            "226/226 [==============================] - 4s 15ms/step - loss: 0.3200 - accuracy: 0.8707 - val_loss: 0.4057 - val_accuracy: 0.8198\n",
            "Epoch 3/10\n",
            "226/226 [==============================] - 3s 12ms/step - loss: 0.1422 - accuracy: 0.9563 - val_loss: 0.4440 - val_accuracy: 0.8126\n",
            "Epoch 4/10\n",
            "226/226 [==============================] - 3s 12ms/step - loss: 0.0477 - accuracy: 0.9910 - val_loss: 0.5274 - val_accuracy: 0.8187\n",
            "Epoch 5/10\n",
            "226/226 [==============================] - 3s 12ms/step - loss: 0.0159 - accuracy: 0.9983 - val_loss: 0.5748 - val_accuracy: 0.8176\n",
            "Epoch 6/10\n",
            "226/226 [==============================] - 4s 17ms/step - loss: 0.0053 - accuracy: 1.0000 - val_loss: 0.6324 - val_accuracy: 0.8149\n",
            "Epoch 7/10\n",
            "226/226 [==============================] - 3s 13ms/step - loss: 0.0027 - accuracy: 0.9999 - val_loss: 0.6720 - val_accuracy: 0.8143\n",
            "Epoch 8/10\n",
            "226/226 [==============================] - 3s 15ms/step - loss: 0.0016 - accuracy: 1.0000 - val_loss: 0.6964 - val_accuracy: 0.8165\n",
            "Epoch 9/10\n",
            "226/226 [==============================] - 4s 16ms/step - loss: 0.0011 - accuracy: 1.0000 - val_loss: 0.7265 - val_accuracy: 0.8176\n",
            "Epoch 10/10\n",
            "226/226 [==============================] - 4s 17ms/step - loss: 7.7488e-04 - accuracy: 1.0000 - val_loss: 0.7504 - val_accuracy: 0.8176\n"
          ]
        }
      ],
      "source": [
        "history = model.fit(X_train, y_train,\n",
        "                    epochs=10,\n",
        "                    validation_split = 0.2,\n",
        "                    batch_size=32)"
      ]
    },
    {
      "cell_type": "code",
      "execution_count": null,
      "metadata": {
        "colab": {
          "base_uri": "https://localhost:8080/",
          "height": 469
        },
        "id": "ZJyR7cy0ty5S",
        "outputId": "414177ed-34a3-48fb-a1a9-334c08c2ed9a"
      },
      "outputs": [
        {
          "data": {
            "image/png": "[encoded data removed]",
            "text/plain": [
              "<Figure size 1200x500 with 2 Axes>"
            ]
          },
          "metadata": {},
          "output_type": "display_data"
        }
      ],
      "source": [
        "plot_history(history)"
      ]
    },
    {
      "cell_type": "markdown",
      "metadata": {
        "id": "13a82M_Ft0ES"
      },
      "source": [
        "**Evaluate**"
      ]
    },
    {
      "cell_type": "code",
      "execution_count": null,
      "metadata": {
        "colab": {
          "base_uri": "https://localhost:8080/"
        },
        "id": "r5gAFD9mt1X-",
        "outputId": "da410878-0379-4fe0-ca6c-6c472c8769eb"
      },
      "outputs": [
        {
          "name": "stdout",
          "output_type": "stream",
          "text": [
            "71/71 [==============================] - 0s 2ms/step\n",
            "              precision    recall  f1-score   support\n",
            "\n",
            "           0       0.83      0.86      0.85      1408\n",
            "           1       0.75      0.71      0.73       847\n",
            "\n",
            "    accuracy                           0.80      2255\n",
            "   macro avg       0.79      0.79      0.79      2255\n",
            "weighted avg       0.80      0.80      0.80      2255\n",
            "\n"
          ]
        }
      ],
      "source": [
        "evaluate_keras_model(model, X_test, y_test)"
      ]
    },
    {
      "cell_type": "markdown",
      "metadata": {
        "id": "oaMYPjkvuC7A"
      },
      "source": [
        "Try with dim=100?"
      ]
    },
    {
      "cell_type": "markdown",
      "metadata": {
        "id": "_3MQOes5uNpt"
      },
      "source": [
        "Same code as above; but creation of the network in a single cell"
      ]
    },
    {
      "cell_type": "code",
      "execution_count": null,
      "metadata": {
        "id": "saKU3sf0uKR5"
      },
      "outputs": [],
      "source": [
        "embedding_dim = 100\n",
        "\n",
        "def create_embedding_model():\n",
        "  model = Sequential()\n",
        "  model.add(Embedding(input_dim=vocab_size,\n",
        "                      output_dim=embedding_dim,\n",
        "                      input_length=maxlen))\n",
        "  model.add(Flatten())\n",
        "  model.add(Dense(64, activation='relu'))\n",
        "  #model.add(Dense(32, activation='relu'))\n",
        "  model.add(Dense(1, activation='sigmoid'))\n",
        "  model.compile(optimizer='adam',\n",
        "              loss='binary_crossentropy',\n",
        "              metrics=['accuracy'])\n",
        "  return model"
      ]
    },
    {
      "cell_type": "code",
      "execution_count": null,
      "metadata": {
        "colab": {
          "base_uri": "https://localhost:8080/"
        },
        "id": "KwgLpI6ku9Ia",
        "outputId": "1af9a7b3-3507-49f4-f15d-f780c0572a18"
      },
      "outputs": [
        {
          "name": "stdout",
          "output_type": "stream",
          "text": [
            "Model: \"sequential_2\"\n",
            "_________________________________________________________________\n",
            " Layer (type)                Output Shape              Param #   \n",
            "=================================================================\n",
            " embedding_1 (Embedding)     (None, 91, 100)           1213900   \n",
            "                                                                 \n",
            " flatten_1 (Flatten)         (None, 9100)              0         \n",
            "                                                                 \n",
            " dense_4 (Dense)             (None, 64)                582464    \n",
            "                                                                 \n",
            " dense_5 (Dense)             (None, 1)                 65        \n",
            "                                                                 \n",
            "=================================================================\n",
            "Total params: 1796429 (6.85 MB)\n",
            "Trainable params: 1796429 (6.85 MB)\n",
            "Non-trainable params: 0 (0.00 Byte)\n",
            "_________________________________________________________________\n"
          ]
        }
      ],
      "source": [
        "model = create_embedding_model()\n",
        "model.summary()"
      ]
    },
    {
      "cell_type": "code",
      "execution_count": null,
      "metadata": {
        "colab": {
          "base_uri": "https://localhost:8080/"
        },
        "id": "prSve2n84R29",
        "outputId": "a2c566c7-1bf8-49a3-b565-149720566ca4"
      },
      "outputs": [
        {
          "data": {
            "text/plain": [
              "(9017, 91)"
            ]
          },
          "execution_count": 82,
          "metadata": {},
          "output_type": "execute_result"
        }
      ],
      "source": [
        "X_train.shape"
      ]
    },
    {
      "cell_type": "code",
      "execution_count": null,
      "metadata": {
        "colab": {
          "base_uri": "https://localhost:8080/"
        },
        "id": "lQgX4MkQvLTj",
        "outputId": "2e4b8233-129a-4871-d23c-d4ad6826630a"
      },
      "outputs": [
        {
          "name": "stdout",
          "output_type": "stream",
          "text": [
            "Epoch 1/10\n",
            "113/113 [==============================] - 4s 34ms/step - loss: 2.9695e-04 - accuracy: 1.0000 - val_loss: 0.7754 - val_accuracy: 0.8121\n",
            "Epoch 2/10\n",
            "113/113 [==============================] - 3s 30ms/step - loss: 2.4417e-04 - accuracy: 1.0000 - val_loss: 0.7924 - val_accuracy: 0.8132\n",
            "Epoch 3/10\n",
            "113/113 [==============================] - 3s 30ms/step - loss: 2.0139e-04 - accuracy: 1.0000 - val_loss: 0.8081 - val_accuracy: 0.8126\n",
            "Epoch 4/10\n",
            "113/113 [==============================] - 4s 39ms/step - loss: 1.6451e-04 - accuracy: 1.0000 - val_loss: 0.8256 - val_accuracy: 0.8115\n",
            "Epoch 5/10\n",
            "113/113 [==============================] - 4s 31ms/step - loss: 1.3386e-04 - accuracy: 1.0000 - val_loss: 0.8410 - val_accuracy: 0.8121\n",
            "Epoch 6/10\n",
            "113/113 [==============================] - 3s 30ms/step - loss: 1.0973e-04 - accuracy: 1.0000 - val_loss: 0.8582 - val_accuracy: 0.8132\n",
            "Epoch 7/10\n",
            "113/113 [==============================] - 3s 29ms/step - loss: 9.0678e-05 - accuracy: 1.0000 - val_loss: 0.8752 - val_accuracy: 0.8121\n",
            "Epoch 8/10\n",
            "113/113 [==============================] - 5s 40ms/step - loss: 7.4440e-05 - accuracy: 1.0000 - val_loss: 0.8911 - val_accuracy: 0.8126\n",
            "Epoch 9/10\n",
            "113/113 [==============================] - 3s 31ms/step - loss: 6.2142e-05 - accuracy: 1.0000 - val_loss: 0.9069 - val_accuracy: 0.8137\n",
            "Epoch 10/10\n",
            "113/113 [==============================] - 3s 29ms/step - loss: 5.2218e-05 - accuracy: 1.0000 - val_loss: 0.9206 - val_accuracy: 0.8137\n"
          ]
        }
      ],
      "source": [
        "history = model.fit(X_train, y_train,\n",
        "                    epochs=10,\n",
        "                    validation_split = 0.2,\n",
        "                    batch_size=64)"
      ]
    },
    {
      "cell_type": "markdown",
      "metadata": {
        "id": "t3Lt90Q2vZ93"
      },
      "source": [
        "Keras/Tensor has GPU implementation of its model training process and we can take advantage of the GPU to speed up the training process"
      ]
    },
    {
      "cell_type": "markdown",
      "metadata": {
        "id": "LILZ3IcqvsOi"
      },
      "source": [
        "Below code contains parts of code from above (reading files, imports, tokenizations) as switching to GPU restarts the VM. This is not required, you can simply re-run required code blocks."
      ]
    },
    {
      "cell_type": "markdown",
      "metadata": {
        "id": "jnBJZJbqwH5_"
      },
      "source": [
        "#### code blocks to be executed again for GPU switch"
      ]
    },
    {
      "cell_type": "code",
      "execution_count": null,
      "metadata": {
        "id": "t8v_2co0vrk9"
      },
      "outputs": [],
      "source": [
        "import pandas as pd\n",
        "import numpy as np\n",
        "import matplotlib.pyplot as plt\n",
        "from collections import Counter\n",
        "from sklearn.model_selection import train_test_split\n",
        "from sklearn.metrics import classification_report"
      ]
    },
    {
      "cell_type": "code",
      "execution_count": null,
      "metadata": {
        "id": "39mfeUqUx_9I"
      },
      "outputs": [],
      "source": [
        "plt.style.use('ggplot')\n",
        "\n",
        "def plot_history(history):\n",
        "    acc = history.history['accuracy']\n",
        "    val_acc = history.history['val_accuracy']\n",
        "    loss = history.history['loss']\n",
        "    val_loss = history.history['val_loss']\n",
        "    x = range(1, len(acc) + 1)\n",
        "\n",
        "    plt.figure(figsize=(12, 5))\n",
        "    plt.subplot(1, 2, 1)\n",
        "    plt.plot(x, acc, 'b', label='Training acc')\n",
        "    plt.plot(x, val_acc, 'r', label='Validation acc')\n",
        "    plt.title('Training and validation accuracy')\n",
        "    plt.legend()\n",
        "    plt.subplot(1, 2, 2)\n",
        "    plt.plot(x, loss, 'b', label='Training loss')\n",
        "    plt.plot(x, val_loss, 'r', label='Validation loss')\n",
        "    plt.title('Training and validation loss')\n",
        "    plt.legend()\n",
        "\n",
        "def evaluate_keras_model(model, X_test, y_test):\n",
        "  # Predicting the Test set results\n",
        "  y_pred_prob = model.predict(X_test)\n",
        "  y_pred = (y_pred_prob > 0.5).astype(\"int32\")\n",
        "  print(classification_report(y_test,y_pred))"
      ]
    },
    {
      "cell_type": "code",
      "execution_count": null,
      "metadata": {
        "id": "LWUadQLXwHFH"
      },
      "outputs": [],
      "source": [
        "ade_file = \"/content/drive/MyDrive/Work/HIDS_506_2024/Lecture9/data/ade_corpus_subset.csv\"\n",
        "ade_df = pd.read_csv(ade_file)\n",
        "X_docs = ade_df['sentence'].values\n",
        "y = ade_df['label'].values\n",
        "X_train_docs, X_test_docs, y_train, y_test = train_test_split(X_docs, y,\n",
        "                                                    test_size=0.20,\n",
        "                                                    random_state=42)\n",
        "\n",
        "from keras.preprocessing.text import Tokenizer\n",
        "tokenizer = Tokenizer(num_words=5000, lower=True)\n",
        "tokenizer.fit_on_texts(X_train_docs)\n",
        "vocab_size = len(tokenizer.word_index) + 1"
      ]
    },
    {
      "cell_type": "code",
      "execution_count": null,
      "metadata": {
        "id": "6D9P4d6CwaOD"
      },
      "outputs": [],
      "source": [
        "from keras.preprocessing.text import Tokenizer\n",
        "tokenizer = Tokenizer(num_words=5000, lower=True)\n",
        "tokenizer.fit_on_texts(X_train_docs)\n",
        "X_train = tokenizer.texts_to_sequences(X_train_docs)\n",
        "X_test = tokenizer.texts_to_sequences(X_test_docs)\n",
        "vocab_size = len(tokenizer.word_index) + 1"
      ]
    },
    {
      "cell_type": "code",
      "execution_count": null,
      "metadata": {
        "id": "GlFwdabcwpWH"
      },
      "outputs": [],
      "source": [
        "def get_max_doc_len(X_train):\n",
        "  max_len = 0\n",
        "  for doc in X_train:\n",
        "    if len(doc) > max_len: max_len = len(doc)\n",
        "  return max_len"
      ]
    },
    {
      "cell_type": "code",
      "execution_count": null,
      "metadata": {
        "id": "AjrOAK36ws5L"
      },
      "outputs": [],
      "source": [
        "maxlen = get_max_doc_len(X_train)\n",
        "from keras.utils import pad_sequences\n",
        "X_train = pad_sequences(X_train, padding='post', maxlen=maxlen)\n",
        "X_test = pad_sequences(X_test, padding='post', maxlen=maxlen)"
      ]
    },
    {
      "cell_type": "code",
      "execution_count": null,
      "metadata": {
        "id": "LHipnlEIyIiJ"
      },
      "outputs": [],
      "source": [
        "import keras\n",
        "from keras.models import Sequential\n",
        "from keras.layers import Dense\n",
        "from keras.layers import Dropout\n",
        "from keras.layers import Embedding\n",
        "from keras.layers import Flatten"
      ]
    },
    {
      "cell_type": "markdown",
      "metadata": {
        "id": "Djl3rB3ozXdl"
      },
      "source": [
        "#### we can resume training with GPU"
      ]
    },
    {
      "cell_type": "code",
      "execution_count": null,
      "metadata": {
        "id": "0-bdN6_XydvR"
      },
      "outputs": [],
      "source": [
        "embedding_dim = 100\n",
        "\n",
        "def create_embedding_model():\n",
        "  model = Sequential()\n",
        "  model.add(Embedding(input_dim=vocab_size,\n",
        "                      output_dim=embedding_dim,\n",
        "                      input_length=maxlen))\n",
        "  model.add(Flatten())\n",
        "  #model.add(Dense(16, activation='relu'))\n",
        "  model.add(Dense(32, activation='relu'))\n",
        "  model.add(Dense(1, activation='sigmoid'))\n",
        "  model.compile(optimizer='adam',\n",
        "              loss='binary_crossentropy',\n",
        "              metrics=['accuracy'])\n",
        "  return model"
      ]
    },
    {
      "cell_type": "code",
      "execution_count": null,
      "metadata": {
        "id": "PkatUpMDyf5p"
      },
      "outputs": [],
      "source": [
        "model = create_embedding_model()\n",
        "model.summary()"
      ]
    },
    {
      "cell_type": "code",
      "execution_count": null,
      "metadata": {
        "colab": {
          "base_uri": "https://localhost:8080/"
        },
        "id": "mrBEFtdZyrzb",
        "outputId": "a62708f4-3aad-41e9-b49a-dbea1d666c27"
      },
      "outputs": [
        {
          "name": "stdout",
          "output_type": "stream",
          "text": [
            "Epoch 1/10\n",
            "226/226 [==============================] - 24s 80ms/step - loss: 0.5826 - accuracy: 0.6946 - val_loss: 0.4522 - val_accuracy: 0.8032\n",
            "Epoch 2/10\n",
            "226/226 [==============================] - 6s 28ms/step - loss: 0.2987 - accuracy: 0.8817 - val_loss: 0.4113 - val_accuracy: 0.8165\n",
            "Epoch 3/10\n",
            "226/226 [==============================] - 2s 10ms/step - loss: 0.1235 - accuracy: 0.9648 - val_loss: 0.4599 - val_accuracy: 0.8187\n",
            "Epoch 4/10\n",
            "226/226 [==============================] - 2s 10ms/step - loss: 0.0394 - accuracy: 0.9943 - val_loss: 0.5185 - val_accuracy: 0.8210\n",
            "Epoch 5/10\n",
            "226/226 [==============================] - 1s 6ms/step - loss: 0.0137 - accuracy: 0.9989 - val_loss: 0.5873 - val_accuracy: 0.8149\n",
            "Epoch 6/10\n",
            "226/226 [==============================] - 1s 6ms/step - loss: 0.0055 - accuracy: 0.9996 - val_loss: 0.6384 - val_accuracy: 0.8182\n",
            "Epoch 7/10\n",
            "226/226 [==============================] - 2s 8ms/step - loss: 0.0027 - accuracy: 1.0000 - val_loss: 0.6583 - val_accuracy: 0.8187\n",
            "Epoch 8/10\n",
            "226/226 [==============================] - 2s 8ms/step - loss: 0.0016 - accuracy: 1.0000 - val_loss: 0.6897 - val_accuracy: 0.8210\n",
            "Epoch 9/10\n",
            "226/226 [==============================] - 2s 8ms/step - loss: 0.0011 - accuracy: 1.0000 - val_loss: 0.7265 - val_accuracy: 0.8165\n",
            "Epoch 10/10\n",
            "226/226 [==============================] - 1s 6ms/step - loss: 7.5726e-04 - accuracy: 1.0000 - val_loss: 0.7568 - val_accuracy: 0.8187\n"
          ]
        }
      ],
      "source": [
        "history = model.fit(X_train, y_train,\n",
        "                    epochs=10,\n",
        "                    validation_split = 0.2,\n",
        "                    batch_size=32)"
      ]
    },
    {
      "cell_type": "code",
      "execution_count": null,
      "metadata": {
        "id": "biFg3OTpy6Ag"
      },
      "outputs": [],
      "source": [
        "plot_history(history)"
      ]
    },
    {
      "cell_type": "code",
      "execution_count": null,
      "metadata": {
        "id": "vgVfsG2ezQMz"
      },
      "outputs": [],
      "source": [
        "evaluate_keras_model(model, X_test, y_test)"
      ]
    },
    {
      "cell_type": "markdown",
      "metadata": {
        "id": "AaXunzJA0BMO"
      },
      "source": [
        "This is typically a not very reliable way to work with sequential data as you can see in the performance. When working with sequential data you want to focus on methods that look at local and sequential information instead of absolute positional information.\n",
        "\n",
        "Here is where Convolutional Neural Networks (CNN) comes in.\n",
        "\n",
        "Note: Instead of Flatenning the embeddings layer you can using a `MaxPooling1D/AveragePooling1D` or a GlobalMaxPooling1D/GlobalAveragePooling1D layer after the embedding. You can think of the pooling layers as a way to downsample (a way to reduce the size of) the incoming feature vectors.\n",
        "\n",
        "In the case of max pooling you take the maximum value of all features in the pool for each feature dimension. In the case of average pooling you take the average, but max pooling seems to be more commonly used as it highlights large values.\n",
        "\n",
        "Add a pooling layer instead of Flatten and see if it captures sequential and local information i.e. performance increases or not."
      ]
    },
    {
      "cell_type": "markdown",
      "metadata": {
        "id": "i2kjfvTZ0h87"
      },
      "source": [
        "### Convolutional Neural Networks (CNN)"
      ]
    },
    {
      "cell_type": "markdown",
      "metadata": {
        "id": "iHWmgnpXrm6A"
      },
      "source": [
        "Convolutional neural networks or also called convnets are one of the most exciting developments in machine learning in recent years.\n",
        "\n",
        "They have revolutionized image classification and computer vision by being able to extract features from images and using them in neural networks. The properties that made them useful in image processing makes them also handy for sequence processing. You can imagine a CNN as a specialized neural network that is able to detect specific patterns.\n",
        "\n",
        "If it is just another neural network, what differentiates it from what you have previously learned?\n",
        "\n",
        "A CNN has hidden layers which are called convolutional layers. When you think of images, a computer has to deal with a two dimensional matrix of numbers and therefore you need some way to detect features in this matrix. These convolutional layers are able to detect edges, corners and other kinds of textures which makes them such a special tool. The convolutional layer consists of multiple filters which are slid across the image and are able to detect specific features."
      ]
    },
    {
      "cell_type": "markdown",
      "metadata": {
        "id": "Kyx9BcqHrr2v"
      },
      "source": [
        "This is the very core of the technique, the mathematical process of convolution. With each convolutional layer the network is able to detect more complex patterns. In the Feature Visualization by Chris Olah you can get a good intuition what these features can look like.\n",
        "\n",
        "When you are working with sequential data, like text, you work with one dimensional convolutions, but the idea and the application stays the same. You still want to pick up on patterns in the sequence which become more complex with each added convolutional layer.\n",
        "\n",
        "In the next figure you can see how such a convolution works. It starts by taking a patch of input features with the size of the filter kernel. With this patch you take the dot product of the multiplied weights of the filter. The one dimensional convnet is invariant to translations, which means that certain sequences can be recognized at a different position. This can be helpful for certain patterns in the text:"
      ]
    },
    {
      "cell_type": "markdown",
      "metadata": {
        "id": "uULWasPXrxGY"
      },
      "source": [
        "Now let’s have a look how you can use this network in Keras. Keras offers again various Convolutional layers which you can use for this task. The layer you’ll need is the Conv1D layer. This layer has again various parameters to choose from. The ones you are interested in for now are the number of filters, the kernel size, and the activation function. You can add this layer in between the Embedding layer and the GlobalMaxPool1D layer:"
      ]
    },
    {
      "cell_type": "markdown",
      "metadata": {
        "id": "vucXwmeWsQba"
      },
      "source": [
        "**Define sequential  CNNmodel**"
      ]
    },
    {
      "cell_type": "code",
      "execution_count": null,
      "metadata": {
        "id": "-tqOLfZqrRxm"
      },
      "outputs": [],
      "source": [
        "cnn_model = Sequential()"
      ]
    },
    {
      "cell_type": "markdown",
      "metadata": {
        "id": "TWG-UW8Osb76"
      },
      "source": [
        "**Add Embedding Layer**"
      ]
    },
    {
      "cell_type": "code",
      "execution_count": null,
      "metadata": {
        "id": "2y-XSt2Lsa_R"
      },
      "outputs": [],
      "source": [
        "embedding_dim = 50\n",
        "cnn_model.add(Embedding(vocab_size,\n",
        "                        embedding_dim,\n",
        "                        input_length=maxlen))"
      ]
    },
    {
      "cell_type": "markdown",
      "metadata": {
        "id": "NJql9Pc8sslT"
      },
      "source": [
        "**Add a Convolution Layer**\n",
        "\n",
        "Also known as filters"
      ]
    },
    {
      "cell_type": "code",
      "execution_count": null,
      "metadata": {
        "id": "LtMj_wkPs131"
      },
      "outputs": [],
      "source": [
        "from keras.layers import Conv1D\n",
        "from keras.layers import GlobalMaxPool1D"
      ]
    },
    {
      "cell_type": "markdown",
      "metadata": {
        "id": "AsRu2wf-s76s"
      },
      "source": [
        "Adding 128 convolution filters of size 5"
      ]
    },
    {
      "cell_type": "code",
      "execution_count": null,
      "metadata": {
        "id": "Oqcfpf7Ispns"
      },
      "outputs": [],
      "source": [
        "cnn_model.add(Conv1D(128, 5, activation='relu'))"
      ]
    },
    {
      "cell_type": "markdown",
      "metadata": {
        "id": "EBx8BAZAtD6u"
      },
      "source": [
        "**Add the pooling layer**"
      ]
    },
    {
      "cell_type": "code",
      "execution_count": null,
      "metadata": {
        "id": "WV_VzU6UtCM_"
      },
      "outputs": [],
      "source": [
        "cnn_model.add(GlobalMaxPool1D())"
      ]
    },
    {
      "cell_type": "markdown",
      "metadata": {
        "id": "cfxkj58ptWLC"
      },
      "source": [
        "**Add hidden (if any) and output layer**"
      ]
    },
    {
      "cell_type": "code",
      "execution_count": null,
      "metadata": {
        "id": "iwcT3zqftaup"
      },
      "outputs": [],
      "source": [
        "#Hidden layer\n",
        "cnn_model.add(Dense(16, activation='relu'))\n",
        "\n",
        "#Output layer\n",
        "cnn_model.add(Dense(1, activation='sigmoid'))"
      ]
    },
    {
      "cell_type": "markdown",
      "metadata": {
        "id": "cJF6jEF4t25m"
      },
      "source": [
        "**Compile model**"
      ]
    },
    {
      "cell_type": "code",
      "execution_count": null,
      "metadata": {
        "colab": {
          "base_uri": "https://localhost:8080/"
        },
        "id": "9WWjxfnouEAW",
        "outputId": "c8b66209-0681-4d56-a245-69f9e9130f10"
      },
      "outputs": [
        {
          "data": {
            "text/plain": [
              "(12139, 91)"
            ]
          },
          "execution_count": 18,
          "metadata": {},
          "output_type": "execute_result"
        }
      ],
      "source": [
        "vocab_size, maxlen"
      ]
    },
    {
      "cell_type": "code",
      "execution_count": null,
      "metadata": {
        "colab": {
          "base_uri": "https://localhost:8080/"
        },
        "id": "biwwLE3Itulh",
        "outputId": "e1f8e5c7-7941-4f79-d776-0d52f66f5123"
      },
      "outputs": [
        {
          "name": "stdout",
          "output_type": "stream",
          "text": [
            "Model: \"sequential_1\"\n",
            "_________________________________________________________________\n",
            " Layer (type)                Output Shape              Param #   \n",
            "=================================================================\n",
            " embedding_1 (Embedding)     (None, 91, 50)            606950    \n",
            "                                                                 \n",
            " conv1d (Conv1D)             (None, 87, 128)           32128     \n",
            "                                                                 \n",
            " global_max_pooling1d (Glob  (None, 128)               0         \n",
            " alMaxPooling1D)                                                 \n",
            "                                                                 \n",
            " dense_2 (Dense)             (None, 16)                2064      \n",
            "                                                                 \n",
            " dense_3 (Dense)             (None, 1)                 17        \n",
            "                                                                 \n",
            "=================================================================\n",
            "Total params: 641159 (2.45 MB)\n",
            "Trainable params: 641159 (2.45 MB)\n",
            "Non-trainable params: 0 (0.00 Byte)\n",
            "_________________________________________________________________\n"
          ]
        }
      ],
      "source": [
        "cnn_model.compile(optimizer='adam',\n",
        "              loss='binary_crossentropy',\n",
        "              metrics=['accuracy'])\n",
        "cnn_model.summary()"
      ]
    },
    {
      "cell_type": "markdown",
      "metadata": {
        "id": "I_Xxy-nkvGmP"
      },
      "source": [
        "**Train and Evaluate the model**"
      ]
    },
    {
      "cell_type": "code",
      "execution_count": null,
      "metadata": {
        "colab": {
          "base_uri": "https://localhost:8080/"
        },
        "id": "OyfbVnZVvJWr",
        "outputId": "0be3fe6f-3980-4547-f444-3b7977dc3ce5"
      },
      "outputs": [
        {
          "name": "stdout",
          "output_type": "stream",
          "text": [
            "Epoch 1/10\n",
            "226/226 [==============================] - 17s 63ms/step - loss: 0.5352 - accuracy: 0.7220 - val_loss: 0.4099 - val_accuracy: 0.8126\n",
            "Epoch 2/10\n",
            "226/226 [==============================] - 6s 25ms/step - loss: 0.2992 - accuracy: 0.8737 - val_loss: 0.3897 - val_accuracy: 0.8287\n",
            "Epoch 3/10\n",
            "226/226 [==============================] - 3s 13ms/step - loss: 0.1621 - accuracy: 0.9402 - val_loss: 0.4263 - val_accuracy: 0.8204\n",
            "Epoch 4/10\n",
            "226/226 [==============================] - 3s 11ms/step - loss: 0.0731 - accuracy: 0.9778 - val_loss: 0.5363 - val_accuracy: 0.8182\n",
            "Epoch 5/10\n",
            "226/226 [==============================] - 2s 7ms/step - loss: 0.0297 - accuracy: 0.9924 - val_loss: 0.6539 - val_accuracy: 0.8204\n",
            "Epoch 6/10\n",
            "226/226 [==============================] - 2s 9ms/step - loss: 0.0118 - accuracy: 0.9975 - val_loss: 0.7517 - val_accuracy: 0.8165\n",
            "Epoch 7/10\n",
            "226/226 [==============================] - 1s 6ms/step - loss: 0.0032 - accuracy: 0.9999 - val_loss: 0.8218 - val_accuracy: 0.8187\n",
            "Epoch 8/10\n",
            "226/226 [==============================] - 1s 6ms/step - loss: 0.0011 - accuracy: 1.0000 - val_loss: 0.8726 - val_accuracy: 0.8160\n",
            "Epoch 9/10\n",
            "226/226 [==============================] - 2s 8ms/step - loss: 5.9756e-04 - accuracy: 1.0000 - val_loss: 0.9135 - val_accuracy: 0.8165\n",
            "Epoch 10/10\n",
            "226/226 [==============================] - 1s 7ms/step - loss: 4.0713e-04 - accuracy: 1.0000 - val_loss: 0.9494 - val_accuracy: 0.8165\n"
          ]
        }
      ],
      "source": [
        "history = cnn_model.fit(X_train, y_train,\n",
        "                    epochs=10,\n",
        "                    validation_split = 0.2,\n",
        "                    batch_size=32)"
      ]
    },
    {
      "cell_type": "code",
      "execution_count": null,
      "metadata": {
        "colab": {
          "base_uri": "https://localhost:8080/",
          "height": 469
        },
        "id": "U461fTHAvTrK",
        "outputId": "20c6074d-40fc-47e0-9b7e-af718c7c70f3"
      },
      "outputs": [
        {
          "data": {
            "image/png": "[encoded data removed]",
            "text/plain": [
              "<Figure size 1200x500 with 2 Axes>"
            ]
          },
          "metadata": {},
          "output_type": "display_data"
        }
      ],
      "source": [
        "plot_history(history)"
      ]
    },
    {
      "cell_type": "code",
      "execution_count": null,
      "metadata": {
        "colab": {
          "base_uri": "https://localhost:8080/"
        },
        "id": "Iu75PD2LvXm9",
        "outputId": "8f0ccb40-0f79-49aa-f405-be48cf7be8b7"
      },
      "outputs": [
        {
          "name": "stdout",
          "output_type": "stream",
          "text": [
            "71/71 [==============================] - 0s 2ms/step\n",
            "              precision    recall  f1-score   support\n",
            "\n",
            "           0       0.84      0.85      0.84      1408\n",
            "           1       0.75      0.73      0.74       847\n",
            "\n",
            "    accuracy                           0.80      2255\n",
            "   macro avg       0.79      0.79      0.79      2255\n",
            "weighted avg       0.80      0.80      0.80      2255\n",
            "\n"
          ]
        }
      ],
      "source": [
        "evaluate_keras_model(cnn_model, X_test, y_test)"
      ]
    },
    {
      "cell_type": "markdown",
      "metadata": {
        "id": "gnLzORUpvZQ1"
      },
      "source": [
        "**CNN with different parameter**"
      ]
    },
    {
      "cell_type": "markdown",
      "metadata": {
        "id": "GJxdY8Jnvdor"
      },
      "source": [
        "Same code as above but wrapped the creation of the CNN model in a function"
      ]
    },
    {
      "cell_type": "code",
      "execution_count": null,
      "metadata": {
        "id": "QMHNFlEVvY19"
      },
      "outputs": [],
      "source": [
        "dropout = 0.5\n",
        "embedding_dim = 100\n",
        "\n",
        "def create_model_cnn():\n",
        "  model = Sequential()\n",
        "  model.add(Embedding(input_dim=vocab_size,\n",
        "                      output_dim=embedding_dim,\n",
        "                      input_length=maxlen))\n",
        "\n",
        "  model.add(Conv1D(128, 3, activation='relu'))\n",
        "  model.add(GlobalMaxPool1D())\n",
        "\n",
        "  model.add(Dropout(dropout))\n",
        "  model.add(Dense(32, activation='relu'))\n",
        "  model.add(Dropout(dropout))\n",
        "  model.add(Dense(1, activation='sigmoid'))\n",
        "  model.compile(optimizer='adam',\n",
        "                loss='binary_crossentropy',\n",
        "                metrics=['accuracy'])\n",
        "  return model"
      ]
    },
    {
      "cell_type": "code",
      "execution_count": null,
      "metadata": {
        "colab": {
          "base_uri": "https://localhost:8080/"
        },
        "id": "RpIBkxvLwlZI",
        "outputId": "2d687153-9dd7-4883-b794-097fc636c870"
      },
      "outputs": [
        {
          "name": "stdout",
          "output_type": "stream",
          "text": [
            "Model: \"sequential_2\"\n",
            "_________________________________________________________________\n",
            " Layer (type)                Output Shape              Param #   \n",
            "=================================================================\n",
            " embedding_2 (Embedding)     (None, 91, 100)           1213900   \n",
            "                                                                 \n",
            " conv1d_1 (Conv1D)           (None, 89, 128)           38528     \n",
            "                                                                 \n",
            " global_max_pooling1d_1 (Gl  (None, 128)               0         \n",
            " obalMaxPooling1D)                                               \n",
            "                                                                 \n",
            " dropout (Dropout)           (None, 128)               0         \n",
            "                                                                 \n",
            " dense_4 (Dense)             (None, 32)                4128      \n",
            "                                                                 \n",
            " dropout_1 (Dropout)         (None, 32)                0         \n",
            "                                                                 \n",
            " dense_5 (Dense)             (None, 1)                 33        \n",
            "                                                                 \n",
            "=================================================================\n",
            "Total params: 1256589 (4.79 MB)\n",
            "Trainable params: 1256589 (4.79 MB)\n",
            "Non-trainable params: 0 (0.00 Byte)\n",
            "_________________________________________________________________\n"
          ]
        }
      ],
      "source": [
        "model = create_model_cnn()\n",
        "model.summary()"
      ]
    },
    {
      "cell_type": "code",
      "execution_count": null,
      "metadata": {
        "colab": {
          "base_uri": "https://localhost:8080/"
        },
        "id": "x9dbkC0jwoKH",
        "outputId": "1ffe3819-a93e-4774-f01e-37053b4efc0a"
      },
      "outputs": [
        {
          "name": "stdout",
          "output_type": "stream",
          "text": [
            "Epoch 1/10\n",
            "226/226 [==============================] - 13s 47ms/step - loss: 0.6041 - accuracy: 0.6772 - val_loss: 0.4673 - val_accuracy: 0.7910\n",
            "Epoch 2/10\n",
            "226/226 [==============================] - 3s 15ms/step - loss: 0.4092 - accuracy: 0.8246 - val_loss: 0.4006 - val_accuracy: 0.8104\n",
            "Epoch 3/10\n",
            "226/226 [==============================] - 2s 9ms/step - loss: 0.2684 - accuracy: 0.8960 - val_loss: 0.4085 - val_accuracy: 0.8193\n",
            "Epoch 4/10\n",
            "226/226 [==============================] - 3s 12ms/step - loss: 0.1835 - accuracy: 0.9332 - val_loss: 0.5055 - val_accuracy: 0.8254\n",
            "Epoch 5/10\n",
            "226/226 [==============================] - 2s 7ms/step - loss: 0.1155 - accuracy: 0.9579 - val_loss: 0.6130 - val_accuracy: 0.8016\n",
            "Epoch 6/10\n",
            "226/226 [==============================] - 2s 10ms/step - loss: 0.0874 - accuracy: 0.9707 - val_loss: 0.7047 - val_accuracy: 0.8110\n",
            "Epoch 7/10\n",
            "226/226 [==============================] - 1s 7ms/step - loss: 0.0587 - accuracy: 0.9820 - val_loss: 0.8070 - val_accuracy: 0.8121\n",
            "Epoch 8/10\n",
            "226/226 [==============================] - 1s 6ms/step - loss: 0.0407 - accuracy: 0.9871 - val_loss: 0.9187 - val_accuracy: 0.8154\n",
            "Epoch 9/10\n",
            "226/226 [==============================] - 1s 6ms/step - loss: 0.0312 - accuracy: 0.9913 - val_loss: 1.0692 - val_accuracy: 0.8099\n",
            "Epoch 10/10\n",
            "226/226 [==============================] - 1s 6ms/step - loss: 0.0269 - accuracy: 0.9920 - val_loss: 1.1137 - val_accuracy: 0.8182\n"
          ]
        }
      ],
      "source": [
        "EPOCHS = 10\n",
        "BATCH_SIZE = 32\n",
        "model = create_model_cnn()\n",
        "history = model.fit(X_train, y_train, epochs=EPOCHS,\n",
        "                    batch_size=BATCH_SIZE,\n",
        "                    validation_split = 0.2)"
      ]
    },
    {
      "cell_type": "code",
      "execution_count": null,
      "metadata": {
        "colab": {
          "base_uri": "https://localhost:8080/",
          "height": 469
        },
        "id": "d075Hv8txBDh",
        "outputId": "56b6e8d5-b852-4b75-cb89-38f040c6c352"
      },
      "outputs": [
        {
          "data": {
            "image/png": "[encoded data removed]",
            "text/plain": [
              "<Figure size 1200x500 with 2 Axes>"
            ]
          },
          "metadata": {},
          "output_type": "display_data"
        }
      ],
      "source": [
        "plot_history(history)"
      ]
    },
    {
      "cell_type": "code",
      "execution_count": null,
      "metadata": {
        "colab": {
          "base_uri": "https://localhost:8080/"
        },
        "id": "RkbPvXMdxGoE",
        "outputId": "c6691e3f-4c1d-4cb6-ba4a-88db68cf1657"
      },
      "outputs": [
        {
          "name": "stdout",
          "output_type": "stream",
          "text": [
            "71/71 [==============================] - 0s 2ms/step\n",
            "              precision    recall  f1-score   support\n",
            "\n",
            "           0       0.82      0.84      0.83      1408\n",
            "           1       0.73      0.70      0.71       847\n",
            "\n",
            "    accuracy                           0.79      2255\n",
            "   macro avg       0.78      0.77      0.77      2255\n",
            "weighted avg       0.79      0.79      0.79      2255\n",
            "\n"
          ]
        }
      ],
      "source": [
        "evaluate_keras_model(model, X_test, y_test)"
      ]
    },
    {
      "cell_type": "markdown",
      "metadata": {
        "id": "jBhNNzk0xdG5"
      },
      "source": [
        "**Early Stop**\n",
        "\n",
        "This parameter in Keras help stop training when a monitored metric has stopped improving (typically validation loss) indicative of overfitting\n",
        "\n",
        "Assuming the goal of a training is to minimize the loss. With this, the metric to be monitored would be 'loss', and mode would be 'min'. A model.fit() training loop will check at end of every epoch whether the loss is no longer decreasing, considering the min_delta and patience if applicable. Once it's found no longer decreasing, model.stop_training is marked True and the training terminates."
      ]
    },
    {
      "cell_type": "markdown",
      "metadata": {
        "id": "OJTiCXz1xvuU"
      },
      "source": [
        "Create an early stop callback"
      ]
    },
    {
      "cell_type": "code",
      "execution_count": null,
      "metadata": {
        "id": "2otyiVWax643"
      },
      "outputs": [],
      "source": [
        "import tensorflow as tf"
      ]
    },
    {
      "cell_type": "code",
      "execution_count": null,
      "metadata": {
        "id": "YIpQEP3Gxr76"
      },
      "outputs": [],
      "source": [
        "callback = tf.keras.callbacks.EarlyStopping(monitor='val_loss', patience=3)"
      ]
    },
    {
      "cell_type": "code",
      "execution_count": null,
      "metadata": {
        "colab": {
          "base_uri": "https://localhost:8080/"
        },
        "id": "cAv02coTyB5m",
        "outputId": "5d8e794a-88b0-4e74-baf9-2263824b95bf"
      },
      "outputs": [
        {
          "name": "stdout",
          "output_type": "stream",
          "text": [
            "Epoch 1/10\n",
            "226/226 [==============================] - 12s 48ms/step - loss: 0.6056 - accuracy: 0.6753 - val_loss: 0.4686 - val_accuracy: 0.7844\n",
            "Epoch 2/10\n",
            "226/226 [==============================] - 3s 13ms/step - loss: 0.4036 - accuracy: 0.8255 - val_loss: 0.4100 - val_accuracy: 0.8160\n",
            "Epoch 3/10\n",
            "226/226 [==============================] - 2s 9ms/step - loss: 0.2740 - accuracy: 0.8934 - val_loss: 0.4417 - val_accuracy: 0.8027\n",
            "Epoch 4/10\n",
            "226/226 [==============================] - 2s 10ms/step - loss: 0.1805 - accuracy: 0.9362 - val_loss: 0.4890 - val_accuracy: 0.8182\n",
            "Epoch 5/10\n",
            "226/226 [==============================] - 2s 8ms/step - loss: 0.1300 - accuracy: 0.9562 - val_loss: 0.5617 - val_accuracy: 0.8143\n"
          ]
        }
      ],
      "source": [
        "EPOCHS = 10\n",
        "BATCH_SIZE = 32\n",
        "model = create_model_cnn()\n",
        "history = model.fit(X_train, y_train, epochs=EPOCHS,\n",
        "                    batch_size=BATCH_SIZE,\n",
        "                    validation_split = 0.2,\n",
        "                    callbacks=[callback])"
      ]
    },
    {
      "cell_type": "code",
      "execution_count": null,
      "metadata": {
        "colab": {
          "base_uri": "https://localhost:8080/",
          "height": 556
        },
        "id": "5fRedlHryKlD",
        "outputId": "9cf4f999-864a-4270-b64a-c3176e3072b9"
      },
      "outputs": [
        {
          "name": "stderr",
          "output_type": "stream",
          "text": [
            "Exception ignored in: <function _xla_gc_callback at 0x79b99c426560>\n",
            "Traceback (most recent call last):\n",
            "  File \"/usr/local/lib/python3.10/dist-packages/jax/_src/lib/__init__.py\", line 97, in _xla_gc_callback\n",
            "    def _xla_gc_callback(*args):\n",
            "KeyboardInterrupt: \n"
          ]
        },
        {
          "data": {
            "image/png": "[encoded data removed]",
            "text/plain": [
              "<Figure size 1200x500 with 2 Axes>"
            ]
          },
          "metadata": {},
          "output_type": "display_data"
        }
      ],
      "source": [
        "plot_history(history)"
      ]
    },
    {
      "cell_type": "code",
      "execution_count": null,
      "metadata": {
        "colab": {
          "base_uri": "https://localhost:8080/"
        },
        "id": "k1tOJVi_yQrP",
        "outputId": "0ff0786a-9079-4a95-ed06-784eb992d9b9"
      },
      "outputs": [
        {
          "name": "stdout",
          "output_type": "stream",
          "text": [
            "71/71 [==============================] - 0s 2ms/step\n",
            "              precision    recall  f1-score   support\n",
            "\n",
            "           0       0.85      0.84      0.84      1408\n",
            "           1       0.74      0.75      0.74       847\n",
            "\n",
            "    accuracy                           0.81      2255\n",
            "   macro avg       0.79      0.79      0.79      2255\n",
            "weighted avg       0.81      0.81      0.81      2255\n",
            "\n"
          ]
        }
      ],
      "source": [
        "evaluate_keras_model(model, X_test, y_test)"
      ]
    },
    {
      "cell_type": "markdown",
      "metadata": {
        "id": "KVbWjAY6yxWt"
      },
      "source": [
        "**Performance on test set improved with less training: Early stop**"
      ]
    },
    {
      "cell_type": "markdown",
      "source": [
        "**The END** <br>\n",
        "**Authors: Dr. Samir Gupta, Dr. Matthew McCoy & ICBI AIM-AHEAD Team**\n",
        "\n",
        "<img src=\"https://raw.githubusercontent.com/ICBI/AIMAHEAD_GU_publicCourseData/main/HIDSLOGO.AA1.jpg\" alt=\"Powered by\" width=\"500\"/>"
      ],
      "metadata": {
        "id": "mmCfhaezfl4W"
      }
    }
  ],
  "metadata": {
    "accelerator": "GPU",
    "colab": {
      "gpuType": "T4",
      "provenance": [],
      "include_colab_link": true
    },
    "kernelspec": {
      "display_name": "Python 3",
      "language": "python",
      "name": "python3"
    },
    "language_info": {
      "codemirror_mode": {
        "name": "ipython",
        "version": 3
      },
      "file_extension": ".py",
      "mimetype": "text/x-python",
      "name": "python",
      "nbconvert_exporter": "python",
      "pygments_lexer": "ipython3",
      "version": "3.7.4"
    }
  },
  "nbformat": 4,
  "nbformat_minor": 0
}